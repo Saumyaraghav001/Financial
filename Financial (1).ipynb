{
 "cells": [
  {
   "cell_type": "code",
   "execution_count": 104,
   "id": "5bb31994-b65e-4e4b-a13d-9863364f6397",
   "metadata": {},
   "outputs": [
    {
     "name": "stdout",
     "output_type": "stream",
     "text": [
      "Collecting pivottablejs\n",
      "  Downloading pivottablejs-0.9.0-py2.py3-none-any.whl.metadata (2.1 kB)\n",
      "Downloading pivottablejs-0.9.0-py2.py3-none-any.whl (4.7 kB)\n",
      "Installing collected packages: pivottablejs\n",
      "Successfully installed pivottablejs-0.9.0\n",
      "Note: you may need to restart the kernel to use updated packages.\n"
     ]
    }
   ],
   "source": [
    "pip install pivottablejs"
   ]
  },
  {
   "cell_type": "code",
   "execution_count": 1,
   "id": "37325063-bc75-4aa6-8ca9-13e76754954b",
   "metadata": {},
   "outputs": [],
   "source": [
    "import pandas as pd\n",
    "import numpy as np\n",
    "import seaborn as sb\n",
    "import matplotlib.pyplot as plt\n",
    "from pivottablejs import pivot_ui"
   ]
  },
  {
   "cell_type": "code",
   "execution_count": 2,
   "id": "fd82d379-2102-459c-8dbf-f9f4ce26910f",
   "metadata": {},
   "outputs": [],
   "source": [
    "df=pd.read_csv(\"financial_loan.csv\")"
   ]
  },
  {
   "cell_type": "code",
   "execution_count": 5,
   "id": "9306d469-be88-41ab-9540-7ab26fdc3e89",
   "metadata": {},
   "outputs": [
    {
     "data": {
      "text/html": [
       "\n",
       "        <iframe\n",
       "            width=\"100%\"\n",
       "            height=\"500\"\n",
       "            src=\"pivottablejs.html\"\n",
       "            frameborder=\"0\"\n",
       "            allowfullscreen\n",
       "            \n",
       "        ></iframe>\n",
       "        "
      ],
      "text/plain": [
       "<IPython.lib.display.IFrame at 0x15c329c0b90>"
      ]
     },
     "execution_count": 5,
     "metadata": {},
     "output_type": "execute_result"
    }
   ],
   "source": [
    "pivot_ui(df)"
   ]
  },
  {
   "cell_type": "code",
   "execution_count": 3,
   "id": "e78659e9-43fb-4f5a-a4be-e6ac49980c3e",
   "metadata": {},
   "outputs": [
    {
     "data": {
      "text/html": [
       "<div>\n",
       "<style scoped>\n",
       "    .dataframe tbody tr th:only-of-type {\n",
       "        vertical-align: middle;\n",
       "    }\n",
       "\n",
       "    .dataframe tbody tr th {\n",
       "        vertical-align: top;\n",
       "    }\n",
       "\n",
       "    .dataframe thead th {\n",
       "        text-align: right;\n",
       "    }\n",
       "</style>\n",
       "<table border=\"1\" class=\"dataframe\">\n",
       "  <thead>\n",
       "    <tr style=\"text-align: right;\">\n",
       "      <th></th>\n",
       "      <th>id</th>\n",
       "      <th>address_state</th>\n",
       "      <th>application_type</th>\n",
       "      <th>emp_length</th>\n",
       "      <th>emp_title</th>\n",
       "      <th>grade</th>\n",
       "      <th>home_ownership</th>\n",
       "      <th>issue_date</th>\n",
       "      <th>last_credit_pull_date</th>\n",
       "      <th>last_payment_date</th>\n",
       "      <th>...</th>\n",
       "      <th>sub_grade</th>\n",
       "      <th>term</th>\n",
       "      <th>verification_status</th>\n",
       "      <th>annual_income</th>\n",
       "      <th>dti</th>\n",
       "      <th>installment</th>\n",
       "      <th>int_rate</th>\n",
       "      <th>loan_amount</th>\n",
       "      <th>total_acc</th>\n",
       "      <th>total_payment</th>\n",
       "    </tr>\n",
       "  </thead>\n",
       "  <tbody>\n",
       "    <tr>\n",
       "      <th>0</th>\n",
       "      <td>1077430</td>\n",
       "      <td>GA</td>\n",
       "      <td>INDIVIDUAL</td>\n",
       "      <td>&lt; 1 year</td>\n",
       "      <td>Ryder</td>\n",
       "      <td>C</td>\n",
       "      <td>RENT</td>\n",
       "      <td>11-02-2021</td>\n",
       "      <td>13-09-2021</td>\n",
       "      <td>13-04-2021</td>\n",
       "      <td>...</td>\n",
       "      <td>C4</td>\n",
       "      <td>60 months</td>\n",
       "      <td>Source Verified</td>\n",
       "      <td>30000.0</td>\n",
       "      <td>0.0100</td>\n",
       "      <td>59.83</td>\n",
       "      <td>0.1527</td>\n",
       "      <td>2500</td>\n",
       "      <td>4</td>\n",
       "      <td>1009</td>\n",
       "    </tr>\n",
       "    <tr>\n",
       "      <th>1</th>\n",
       "      <td>1072053</td>\n",
       "      <td>CA</td>\n",
       "      <td>INDIVIDUAL</td>\n",
       "      <td>9 years</td>\n",
       "      <td>MKC Accounting</td>\n",
       "      <td>E</td>\n",
       "      <td>RENT</td>\n",
       "      <td>01-01-2021</td>\n",
       "      <td>14-12-2021</td>\n",
       "      <td>15-01-2021</td>\n",
       "      <td>...</td>\n",
       "      <td>E1</td>\n",
       "      <td>36 months</td>\n",
       "      <td>Source Verified</td>\n",
       "      <td>48000.0</td>\n",
       "      <td>0.0535</td>\n",
       "      <td>109.43</td>\n",
       "      <td>0.1864</td>\n",
       "      <td>3000</td>\n",
       "      <td>4</td>\n",
       "      <td>3939</td>\n",
       "    </tr>\n",
       "    <tr>\n",
       "      <th>2</th>\n",
       "      <td>1069243</td>\n",
       "      <td>CA</td>\n",
       "      <td>INDIVIDUAL</td>\n",
       "      <td>4 years</td>\n",
       "      <td>Chemat Technology Inc</td>\n",
       "      <td>C</td>\n",
       "      <td>RENT</td>\n",
       "      <td>05-01-2021</td>\n",
       "      <td>12-12-2021</td>\n",
       "      <td>09-01-2021</td>\n",
       "      <td>...</td>\n",
       "      <td>C5</td>\n",
       "      <td>36 months</td>\n",
       "      <td>Not Verified</td>\n",
       "      <td>50000.0</td>\n",
       "      <td>0.2088</td>\n",
       "      <td>421.65</td>\n",
       "      <td>0.1596</td>\n",
       "      <td>12000</td>\n",
       "      <td>11</td>\n",
       "      <td>3522</td>\n",
       "    </tr>\n",
       "    <tr>\n",
       "      <th>3</th>\n",
       "      <td>1041756</td>\n",
       "      <td>TX</td>\n",
       "      <td>INDIVIDUAL</td>\n",
       "      <td>&lt; 1 year</td>\n",
       "      <td>barnes distribution</td>\n",
       "      <td>B</td>\n",
       "      <td>MORTGAGE</td>\n",
       "      <td>25-02-2021</td>\n",
       "      <td>12-12-2021</td>\n",
       "      <td>12-03-2021</td>\n",
       "      <td>...</td>\n",
       "      <td>B2</td>\n",
       "      <td>60 months</td>\n",
       "      <td>Source Verified</td>\n",
       "      <td>42000.0</td>\n",
       "      <td>0.0540</td>\n",
       "      <td>97.06</td>\n",
       "      <td>0.1065</td>\n",
       "      <td>4500</td>\n",
       "      <td>9</td>\n",
       "      <td>4911</td>\n",
       "    </tr>\n",
       "    <tr>\n",
       "      <th>4</th>\n",
       "      <td>1068350</td>\n",
       "      <td>IL</td>\n",
       "      <td>INDIVIDUAL</td>\n",
       "      <td>10+ years</td>\n",
       "      <td>J&amp;J Steel Inc</td>\n",
       "      <td>A</td>\n",
       "      <td>MORTGAGE</td>\n",
       "      <td>01-01-2021</td>\n",
       "      <td>14-12-2021</td>\n",
       "      <td>15-01-2021</td>\n",
       "      <td>...</td>\n",
       "      <td>A1</td>\n",
       "      <td>36 months</td>\n",
       "      <td>Verified</td>\n",
       "      <td>83000.0</td>\n",
       "      <td>0.0231</td>\n",
       "      <td>106.53</td>\n",
       "      <td>0.0603</td>\n",
       "      <td>3500</td>\n",
       "      <td>28</td>\n",
       "      <td>3835</td>\n",
       "    </tr>\n",
       "    <tr>\n",
       "      <th>...</th>\n",
       "      <td>...</td>\n",
       "      <td>...</td>\n",
       "      <td>...</td>\n",
       "      <td>...</td>\n",
       "      <td>...</td>\n",
       "      <td>...</td>\n",
       "      <td>...</td>\n",
       "      <td>...</td>\n",
       "      <td>...</td>\n",
       "      <td>...</td>\n",
       "      <td>...</td>\n",
       "      <td>...</td>\n",
       "      <td>...</td>\n",
       "      <td>...</td>\n",
       "      <td>...</td>\n",
       "      <td>...</td>\n",
       "      <td>...</td>\n",
       "      <td>...</td>\n",
       "      <td>...</td>\n",
       "      <td>...</td>\n",
       "      <td>...</td>\n",
       "    </tr>\n",
       "    <tr>\n",
       "      <th>38571</th>\n",
       "      <td>803452</td>\n",
       "      <td>NJ</td>\n",
       "      <td>INDIVIDUAL</td>\n",
       "      <td>&lt; 1 year</td>\n",
       "      <td>Joseph M Sanzari Company</td>\n",
       "      <td>C</td>\n",
       "      <td>MORTGAGE</td>\n",
       "      <td>11-07-2021</td>\n",
       "      <td>16-05-2021</td>\n",
       "      <td>16-05-2021</td>\n",
       "      <td>...</td>\n",
       "      <td>C1</td>\n",
       "      <td>60 months</td>\n",
       "      <td>Verified</td>\n",
       "      <td>100000.0</td>\n",
       "      <td>0.1986</td>\n",
       "      <td>551.64</td>\n",
       "      <td>0.1299</td>\n",
       "      <td>24250</td>\n",
       "      <td>33</td>\n",
       "      <td>31946</td>\n",
       "    </tr>\n",
       "    <tr>\n",
       "      <th>38572</th>\n",
       "      <td>970377</td>\n",
       "      <td>NY</td>\n",
       "      <td>INDIVIDUAL</td>\n",
       "      <td>8 years</td>\n",
       "      <td>Swat Fame</td>\n",
       "      <td>C</td>\n",
       "      <td>RENT</td>\n",
       "      <td>11-10-2021</td>\n",
       "      <td>16-04-2021</td>\n",
       "      <td>16-05-2021</td>\n",
       "      <td>...</td>\n",
       "      <td>C1</td>\n",
       "      <td>60 months</td>\n",
       "      <td>Verified</td>\n",
       "      <td>50000.0</td>\n",
       "      <td>0.0458</td>\n",
       "      <td>579.72</td>\n",
       "      <td>0.1349</td>\n",
       "      <td>25200</td>\n",
       "      <td>18</td>\n",
       "      <td>31870</td>\n",
       "    </tr>\n",
       "    <tr>\n",
       "      <th>38573</th>\n",
       "      <td>875376</td>\n",
       "      <td>CA</td>\n",
       "      <td>INDIVIDUAL</td>\n",
       "      <td>5 years</td>\n",
       "      <td>Anaheim Regional Medical Center</td>\n",
       "      <td>D</td>\n",
       "      <td>RENT</td>\n",
       "      <td>11-09-2021</td>\n",
       "      <td>16-05-2021</td>\n",
       "      <td>16-05-2021</td>\n",
       "      <td>...</td>\n",
       "      <td>D5</td>\n",
       "      <td>60 months</td>\n",
       "      <td>Verified</td>\n",
       "      <td>65000.0</td>\n",
       "      <td>0.1734</td>\n",
       "      <td>627.93</td>\n",
       "      <td>0.1749</td>\n",
       "      <td>25000</td>\n",
       "      <td>20</td>\n",
       "      <td>35721</td>\n",
       "    </tr>\n",
       "    <tr>\n",
       "      <th>38574</th>\n",
       "      <td>972997</td>\n",
       "      <td>NY</td>\n",
       "      <td>INDIVIDUAL</td>\n",
       "      <td>5 years</td>\n",
       "      <td>Brooklyn Radiology</td>\n",
       "      <td>D</td>\n",
       "      <td>RENT</td>\n",
       "      <td>11-10-2021</td>\n",
       "      <td>16-05-2021</td>\n",
       "      <td>16-05-2021</td>\n",
       "      <td>...</td>\n",
       "      <td>D5</td>\n",
       "      <td>60 months</td>\n",
       "      <td>Verified</td>\n",
       "      <td>368000.0</td>\n",
       "      <td>0.0009</td>\n",
       "      <td>612.72</td>\n",
       "      <td>0.1825</td>\n",
       "      <td>24000</td>\n",
       "      <td>9</td>\n",
       "      <td>33677</td>\n",
       "    </tr>\n",
       "    <tr>\n",
       "      <th>38575</th>\n",
       "      <td>682952</td>\n",
       "      <td>NY</td>\n",
       "      <td>INDIVIDUAL</td>\n",
       "      <td>4 years</td>\n",
       "      <td>Allen Edmonds</td>\n",
       "      <td>F</td>\n",
       "      <td>RENT</td>\n",
       "      <td>11-07-2021</td>\n",
       "      <td>16-05-2021</td>\n",
       "      <td>16-05-2021</td>\n",
       "      <td>...</td>\n",
       "      <td>F3</td>\n",
       "      <td>60 months</td>\n",
       "      <td>Verified</td>\n",
       "      <td>80000.0</td>\n",
       "      <td>0.0600</td>\n",
       "      <td>486.86</td>\n",
       "      <td>0.2099</td>\n",
       "      <td>18000</td>\n",
       "      <td>7</td>\n",
       "      <td>27679</td>\n",
       "    </tr>\n",
       "  </tbody>\n",
       "</table>\n",
       "<p>38576 rows × 24 columns</p>\n",
       "</div>"
      ],
      "text/plain": [
       "            id address_state application_type emp_length  \\\n",
       "0      1077430            GA       INDIVIDUAL   < 1 year   \n",
       "1      1072053            CA       INDIVIDUAL    9 years   \n",
       "2      1069243            CA       INDIVIDUAL    4 years   \n",
       "3      1041756            TX       INDIVIDUAL   < 1 year   \n",
       "4      1068350            IL       INDIVIDUAL  10+ years   \n",
       "...        ...           ...              ...        ...   \n",
       "38571   803452            NJ       INDIVIDUAL   < 1 year   \n",
       "38572   970377            NY       INDIVIDUAL    8 years   \n",
       "38573   875376            CA       INDIVIDUAL    5 years   \n",
       "38574   972997            NY       INDIVIDUAL    5 years   \n",
       "38575   682952            NY       INDIVIDUAL    4 years   \n",
       "\n",
       "                             emp_title grade home_ownership  issue_date  \\\n",
       "0                                Ryder     C           RENT  11-02-2021   \n",
       "1                       MKC Accounting     E           RENT  01-01-2021   \n",
       "2                Chemat Technology Inc     C           RENT  05-01-2021   \n",
       "3                  barnes distribution     B       MORTGAGE  25-02-2021   \n",
       "4                        J&J Steel Inc     A       MORTGAGE  01-01-2021   \n",
       "...                                ...   ...            ...         ...   \n",
       "38571         Joseph M Sanzari Company     C       MORTGAGE  11-07-2021   \n",
       "38572                        Swat Fame     C           RENT  11-10-2021   \n",
       "38573  Anaheim Regional Medical Center     D           RENT  11-09-2021   \n",
       "38574               Brooklyn Radiology     D           RENT  11-10-2021   \n",
       "38575                    Allen Edmonds     F           RENT  11-07-2021   \n",
       "\n",
       "      last_credit_pull_date last_payment_date  ... sub_grade        term  \\\n",
       "0                13-09-2021        13-04-2021  ...        C4   60 months   \n",
       "1                14-12-2021        15-01-2021  ...        E1   36 months   \n",
       "2                12-12-2021        09-01-2021  ...        C5   36 months   \n",
       "3                12-12-2021        12-03-2021  ...        B2   60 months   \n",
       "4                14-12-2021        15-01-2021  ...        A1   36 months   \n",
       "...                     ...               ...  ...       ...         ...   \n",
       "38571            16-05-2021        16-05-2021  ...        C1   60 months   \n",
       "38572            16-04-2021        16-05-2021  ...        C1   60 months   \n",
       "38573            16-05-2021        16-05-2021  ...        D5   60 months   \n",
       "38574            16-05-2021        16-05-2021  ...        D5   60 months   \n",
       "38575            16-05-2021        16-05-2021  ...        F3   60 months   \n",
       "\n",
       "       verification_status annual_income     dti installment int_rate  \\\n",
       "0          Source Verified       30000.0  0.0100       59.83   0.1527   \n",
       "1          Source Verified       48000.0  0.0535      109.43   0.1864   \n",
       "2             Not Verified       50000.0  0.2088      421.65   0.1596   \n",
       "3          Source Verified       42000.0  0.0540       97.06   0.1065   \n",
       "4                 Verified       83000.0  0.0231      106.53   0.0603   \n",
       "...                    ...           ...     ...         ...      ...   \n",
       "38571             Verified      100000.0  0.1986      551.64   0.1299   \n",
       "38572             Verified       50000.0  0.0458      579.72   0.1349   \n",
       "38573             Verified       65000.0  0.1734      627.93   0.1749   \n",
       "38574             Verified      368000.0  0.0009      612.72   0.1825   \n",
       "38575             Verified       80000.0  0.0600      486.86   0.2099   \n",
       "\n",
       "       loan_amount  total_acc  total_payment  \n",
       "0             2500          4           1009  \n",
       "1             3000          4           3939  \n",
       "2            12000         11           3522  \n",
       "3             4500          9           4911  \n",
       "4             3500         28           3835  \n",
       "...            ...        ...            ...  \n",
       "38571        24250         33          31946  \n",
       "38572        25200         18          31870  \n",
       "38573        25000         20          35721  \n",
       "38574        24000          9          33677  \n",
       "38575        18000          7          27679  \n",
       "\n",
       "[38576 rows x 24 columns]"
      ]
     },
     "execution_count": 3,
     "metadata": {},
     "output_type": "execute_result"
    }
   ],
   "source": [
    "df"
   ]
  },
  {
   "cell_type": "code",
   "execution_count": 10,
   "id": "df603b10-9090-4f3c-8e80-5f44929afb8b",
   "metadata": {},
   "outputs": [
    {
     "name": "stdout",
     "output_type": "stream",
     "text": [
      "<class 'pandas.core.frame.DataFrame'>\n",
      "RangeIndex: 38576 entries, 0 to 38575\n",
      "Data columns (total 24 columns):\n",
      " #   Column                 Non-Null Count  Dtype  \n",
      "---  ------                 --------------  -----  \n",
      " 0   id                     38576 non-null  int64  \n",
      " 1   address_state          38576 non-null  object \n",
      " 2   application_type       38576 non-null  object \n",
      " 3   emp_length             38576 non-null  object \n",
      " 4   emp_title              37138 non-null  object \n",
      " 5   grade                  38576 non-null  object \n",
      " 6   home_ownership         38576 non-null  object \n",
      " 7   issue_date             38576 non-null  object \n",
      " 8   last_credit_pull_date  38576 non-null  object \n",
      " 9   last_payment_date      38576 non-null  object \n",
      " 10  loan_status            38576 non-null  object \n",
      " 11  next_payment_date      38576 non-null  object \n",
      " 12  member_id              38576 non-null  int64  \n",
      " 13  purpose                38576 non-null  object \n",
      " 14  sub_grade              38576 non-null  object \n",
      " 15  term                   38576 non-null  object \n",
      " 16  verification_status    38576 non-null  object \n",
      " 17  annual_income          38576 non-null  float64\n",
      " 18  dti                    38576 non-null  float64\n",
      " 19  installment            38576 non-null  float64\n",
      " 20  int_rate               38576 non-null  float64\n",
      " 21  loan_amount            38576 non-null  int64  \n",
      " 22  total_acc              38576 non-null  int64  \n",
      " 23  total_payment          38576 non-null  int64  \n",
      "dtypes: float64(4), int64(5), object(15)\n",
      "memory usage: 7.1+ MB\n"
     ]
    }
   ],
   "source": [
    "df.info()"
   ]
  },
  {
   "cell_type": "code",
   "execution_count": 11,
   "id": "0c51914d-7139-4aba-b966-2e4830acdccc",
   "metadata": {},
   "outputs": [],
   "source": [
    "df['issue_date']=pd.to_datetime(df['issue_date'],format=\"%d-%m-%Y\")"
   ]
  },
  {
   "cell_type": "code",
   "execution_count": 12,
   "id": "3ff28461-e7ba-4859-9e49-493e7802c30b",
   "metadata": {},
   "outputs": [
    {
     "data": {
      "text/plain": [
       "id                                int64\n",
       "address_state                    object\n",
       "application_type                 object\n",
       "emp_length                       object\n",
       "emp_title                        object\n",
       "grade                            object\n",
       "home_ownership                   object\n",
       "issue_date               datetime64[ns]\n",
       "last_credit_pull_date            object\n",
       "last_payment_date                object\n",
       "loan_status                      object\n",
       "next_payment_date                object\n",
       "member_id                         int64\n",
       "purpose                          object\n",
       "sub_grade                        object\n",
       "term                             object\n",
       "verification_status              object\n",
       "annual_income                   float64\n",
       "dti                             float64\n",
       "installment                     float64\n",
       "int_rate                        float64\n",
       "loan_amount                       int64\n",
       "total_acc                         int64\n",
       "total_payment                     int64\n",
       "dtype: object"
      ]
     },
     "execution_count": 12,
     "metadata": {},
     "output_type": "execute_result"
    }
   ],
   "source": [
    "df.dtypes"
   ]
  },
  {
   "cell_type": "code",
   "execution_count": 13,
   "id": "b240d2e2-6545-4521-9ff5-b8b85588ebd4",
   "metadata": {},
   "outputs": [],
   "source": [
    "df['last_credit_pull_date']=pd.to_datetime(df['last_credit_pull_date'],format=\"%d-%m-%Y\")"
   ]
  },
  {
   "cell_type": "code",
   "execution_count": 14,
   "id": "c126d02c-dfe8-41ef-930c-10a66a990836",
   "metadata": {},
   "outputs": [
    {
     "data": {
      "text/plain": [
       "id                                int64\n",
       "address_state                    object\n",
       "application_type                 object\n",
       "emp_length                       object\n",
       "emp_title                        object\n",
       "grade                            object\n",
       "home_ownership                   object\n",
       "issue_date               datetime64[ns]\n",
       "last_credit_pull_date    datetime64[ns]\n",
       "last_payment_date                object\n",
       "loan_status                      object\n",
       "next_payment_date                object\n",
       "member_id                         int64\n",
       "purpose                          object\n",
       "sub_grade                        object\n",
       "term                             object\n",
       "verification_status              object\n",
       "annual_income                   float64\n",
       "dti                             float64\n",
       "installment                     float64\n",
       "int_rate                        float64\n",
       "loan_amount                       int64\n",
       "total_acc                         int64\n",
       "total_payment                     int64\n",
       "dtype: object"
      ]
     },
     "execution_count": 14,
     "metadata": {},
     "output_type": "execute_result"
    }
   ],
   "source": [
    "df.dtypes"
   ]
  },
  {
   "cell_type": "code",
   "execution_count": 15,
   "id": "081b8dc2-2fc4-42a5-8c3d-efe30d9dddd5",
   "metadata": {},
   "outputs": [],
   "source": [
    "df['last_payment_date']=pd.to_datetime(df['last_payment_date'],format=\"%d-%m-%Y\")"
   ]
  },
  {
   "cell_type": "code",
   "execution_count": 16,
   "id": "d8dd0993-500e-4acf-9816-5e1af9a40b60",
   "metadata": {},
   "outputs": [],
   "source": [
    "df['next_payment_date']=pd.to_datetime(df['next_payment_date'],format=\"%d-%m-%Y\")"
   ]
  },
  {
   "cell_type": "code",
   "execution_count": 17,
   "id": "1008fbce-4c99-4cc3-b409-19d53d855afb",
   "metadata": {},
   "outputs": [
    {
     "data": {
      "text/plain": [
       "id                                int64\n",
       "address_state                    object\n",
       "application_type                 object\n",
       "emp_length                       object\n",
       "emp_title                        object\n",
       "grade                            object\n",
       "home_ownership                   object\n",
       "issue_date               datetime64[ns]\n",
       "last_credit_pull_date    datetime64[ns]\n",
       "last_payment_date        datetime64[ns]\n",
       "loan_status                      object\n",
       "next_payment_date        datetime64[ns]\n",
       "member_id                         int64\n",
       "purpose                          object\n",
       "sub_grade                        object\n",
       "term                             object\n",
       "verification_status              object\n",
       "annual_income                   float64\n",
       "dti                             float64\n",
       "installment                     float64\n",
       "int_rate                        float64\n",
       "loan_amount                       int64\n",
       "total_acc                         int64\n",
       "total_payment                     int64\n",
       "dtype: object"
      ]
     },
     "execution_count": 17,
     "metadata": {},
     "output_type": "execute_result"
    }
   ],
   "source": [
    "df.dtypes"
   ]
  },
  {
   "cell_type": "code",
   "execution_count": 18,
   "id": "092c07c0-2cc5-4b09-a894-7a326da6842c",
   "metadata": {},
   "outputs": [
    {
     "data": {
      "text/plain": [
       "id                          0\n",
       "address_state               0\n",
       "application_type            0\n",
       "emp_length                  0\n",
       "emp_title                1438\n",
       "grade                       0\n",
       "home_ownership              0\n",
       "issue_date                  0\n",
       "last_credit_pull_date       0\n",
       "last_payment_date           0\n",
       "loan_status                 0\n",
       "next_payment_date           0\n",
       "member_id                   0\n",
       "purpose                     0\n",
       "sub_grade                   0\n",
       "term                        0\n",
       "verification_status         0\n",
       "annual_income               0\n",
       "dti                         0\n",
       "installment                 0\n",
       "int_rate                    0\n",
       "loan_amount                 0\n",
       "total_acc                   0\n",
       "total_payment               0\n",
       "dtype: int64"
      ]
     },
     "execution_count": 18,
     "metadata": {},
     "output_type": "execute_result"
    }
   ],
   "source": [
    "df.isnull().sum()"
   ]
  },
  {
   "cell_type": "code",
   "execution_count": 19,
   "id": "f3ccb41d-3f0b-47a6-ada4-6e543a6d75b2",
   "metadata": {},
   "outputs": [],
   "source": [
    "df['emp_title']=df['emp_title'].fillna('fill Allen')"
   ]
  },
  {
   "cell_type": "code",
   "execution_count": 20,
   "id": "ab922738-ec16-46bc-9222-50f7decfb0b4",
   "metadata": {},
   "outputs": [
    {
     "data": {
      "text/plain": [
       "id                       0\n",
       "address_state            0\n",
       "application_type         0\n",
       "emp_length               0\n",
       "emp_title                0\n",
       "grade                    0\n",
       "home_ownership           0\n",
       "issue_date               0\n",
       "last_credit_pull_date    0\n",
       "last_payment_date        0\n",
       "loan_status              0\n",
       "next_payment_date        0\n",
       "member_id                0\n",
       "purpose                  0\n",
       "sub_grade                0\n",
       "term                     0\n",
       "verification_status      0\n",
       "annual_income            0\n",
       "dti                      0\n",
       "installment              0\n",
       "int_rate                 0\n",
       "loan_amount              0\n",
       "total_acc                0\n",
       "total_payment            0\n",
       "dtype: int64"
      ]
     },
     "execution_count": 20,
     "metadata": {},
     "output_type": "execute_result"
    }
   ],
   "source": [
    "df.isnull().sum()"
   ]
  },
  {
   "cell_type": "code",
   "execution_count": 21,
   "id": "5a7d6e8a-3ae0-40ab-b891-b431d4e98a42",
   "metadata": {},
   "outputs": [
    {
     "data": {
      "text/plain": [
       "np.int64(0)"
      ]
     },
     "execution_count": 21,
     "metadata": {},
     "output_type": "execute_result"
    }
   ],
   "source": [
    "df.duplicated().sum()"
   ]
  },
  {
   "cell_type": "code",
   "execution_count": 22,
   "id": "3f00a018-beba-41a7-ba30-1cc18e50302d",
   "metadata": {},
   "outputs": [
    {
     "data": {
      "text/html": [
       "<div>\n",
       "<style scoped>\n",
       "    .dataframe tbody tr th:only-of-type {\n",
       "        vertical-align: middle;\n",
       "    }\n",
       "\n",
       "    .dataframe tbody tr th {\n",
       "        vertical-align: top;\n",
       "    }\n",
       "\n",
       "    .dataframe thead th {\n",
       "        text-align: right;\n",
       "    }\n",
       "</style>\n",
       "<table border=\"1\" class=\"dataframe\">\n",
       "  <thead>\n",
       "    <tr style=\"text-align: right;\">\n",
       "      <th></th>\n",
       "      <th>id</th>\n",
       "      <th>address_state</th>\n",
       "      <th>application_type</th>\n",
       "      <th>emp_length</th>\n",
       "      <th>emp_title</th>\n",
       "      <th>grade</th>\n",
       "      <th>home_ownership</th>\n",
       "      <th>issue_date</th>\n",
       "      <th>last_credit_pull_date</th>\n",
       "      <th>last_payment_date</th>\n",
       "      <th>...</th>\n",
       "      <th>sub_grade</th>\n",
       "      <th>term</th>\n",
       "      <th>verification_status</th>\n",
       "      <th>annual_income</th>\n",
       "      <th>dti</th>\n",
       "      <th>installment</th>\n",
       "      <th>int_rate</th>\n",
       "      <th>loan_amount</th>\n",
       "      <th>total_acc</th>\n",
       "      <th>total_payment</th>\n",
       "    </tr>\n",
       "  </thead>\n",
       "  <tbody>\n",
       "    <tr>\n",
       "      <th>38571</th>\n",
       "      <td>803452</td>\n",
       "      <td>NJ</td>\n",
       "      <td>INDIVIDUAL</td>\n",
       "      <td>&lt; 1 year</td>\n",
       "      <td>Joseph M Sanzari Company</td>\n",
       "      <td>C</td>\n",
       "      <td>MORTGAGE</td>\n",
       "      <td>2021-07-11</td>\n",
       "      <td>2021-05-16</td>\n",
       "      <td>2021-05-16</td>\n",
       "      <td>...</td>\n",
       "      <td>C1</td>\n",
       "      <td>60 months</td>\n",
       "      <td>Verified</td>\n",
       "      <td>100000.0</td>\n",
       "      <td>0.1986</td>\n",
       "      <td>551.64</td>\n",
       "      <td>0.1299</td>\n",
       "      <td>24250</td>\n",
       "      <td>33</td>\n",
       "      <td>31946</td>\n",
       "    </tr>\n",
       "    <tr>\n",
       "      <th>38572</th>\n",
       "      <td>970377</td>\n",
       "      <td>NY</td>\n",
       "      <td>INDIVIDUAL</td>\n",
       "      <td>8 years</td>\n",
       "      <td>Swat Fame</td>\n",
       "      <td>C</td>\n",
       "      <td>RENT</td>\n",
       "      <td>2021-10-11</td>\n",
       "      <td>2021-04-16</td>\n",
       "      <td>2021-05-16</td>\n",
       "      <td>...</td>\n",
       "      <td>C1</td>\n",
       "      <td>60 months</td>\n",
       "      <td>Verified</td>\n",
       "      <td>50000.0</td>\n",
       "      <td>0.0458</td>\n",
       "      <td>579.72</td>\n",
       "      <td>0.1349</td>\n",
       "      <td>25200</td>\n",
       "      <td>18</td>\n",
       "      <td>31870</td>\n",
       "    </tr>\n",
       "    <tr>\n",
       "      <th>38573</th>\n",
       "      <td>875376</td>\n",
       "      <td>CA</td>\n",
       "      <td>INDIVIDUAL</td>\n",
       "      <td>5 years</td>\n",
       "      <td>Anaheim Regional Medical Center</td>\n",
       "      <td>D</td>\n",
       "      <td>RENT</td>\n",
       "      <td>2021-09-11</td>\n",
       "      <td>2021-05-16</td>\n",
       "      <td>2021-05-16</td>\n",
       "      <td>...</td>\n",
       "      <td>D5</td>\n",
       "      <td>60 months</td>\n",
       "      <td>Verified</td>\n",
       "      <td>65000.0</td>\n",
       "      <td>0.1734</td>\n",
       "      <td>627.93</td>\n",
       "      <td>0.1749</td>\n",
       "      <td>25000</td>\n",
       "      <td>20</td>\n",
       "      <td>35721</td>\n",
       "    </tr>\n",
       "    <tr>\n",
       "      <th>38574</th>\n",
       "      <td>972997</td>\n",
       "      <td>NY</td>\n",
       "      <td>INDIVIDUAL</td>\n",
       "      <td>5 years</td>\n",
       "      <td>Brooklyn Radiology</td>\n",
       "      <td>D</td>\n",
       "      <td>RENT</td>\n",
       "      <td>2021-10-11</td>\n",
       "      <td>2021-05-16</td>\n",
       "      <td>2021-05-16</td>\n",
       "      <td>...</td>\n",
       "      <td>D5</td>\n",
       "      <td>60 months</td>\n",
       "      <td>Verified</td>\n",
       "      <td>368000.0</td>\n",
       "      <td>0.0009</td>\n",
       "      <td>612.72</td>\n",
       "      <td>0.1825</td>\n",
       "      <td>24000</td>\n",
       "      <td>9</td>\n",
       "      <td>33677</td>\n",
       "    </tr>\n",
       "    <tr>\n",
       "      <th>38575</th>\n",
       "      <td>682952</td>\n",
       "      <td>NY</td>\n",
       "      <td>INDIVIDUAL</td>\n",
       "      <td>4 years</td>\n",
       "      <td>Allen Edmonds</td>\n",
       "      <td>F</td>\n",
       "      <td>RENT</td>\n",
       "      <td>2021-07-11</td>\n",
       "      <td>2021-05-16</td>\n",
       "      <td>2021-05-16</td>\n",
       "      <td>...</td>\n",
       "      <td>F3</td>\n",
       "      <td>60 months</td>\n",
       "      <td>Verified</td>\n",
       "      <td>80000.0</td>\n",
       "      <td>0.0600</td>\n",
       "      <td>486.86</td>\n",
       "      <td>0.2099</td>\n",
       "      <td>18000</td>\n",
       "      <td>7</td>\n",
       "      <td>27679</td>\n",
       "    </tr>\n",
       "  </tbody>\n",
       "</table>\n",
       "<p>5 rows × 24 columns</p>\n",
       "</div>"
      ],
      "text/plain": [
       "           id address_state application_type emp_length  \\\n",
       "38571  803452            NJ       INDIVIDUAL   < 1 year   \n",
       "38572  970377            NY       INDIVIDUAL    8 years   \n",
       "38573  875376            CA       INDIVIDUAL    5 years   \n",
       "38574  972997            NY       INDIVIDUAL    5 years   \n",
       "38575  682952            NY       INDIVIDUAL    4 years   \n",
       "\n",
       "                             emp_title grade home_ownership issue_date  \\\n",
       "38571         Joseph M Sanzari Company     C       MORTGAGE 2021-07-11   \n",
       "38572                        Swat Fame     C           RENT 2021-10-11   \n",
       "38573  Anaheim Regional Medical Center     D           RENT 2021-09-11   \n",
       "38574               Brooklyn Radiology     D           RENT 2021-10-11   \n",
       "38575                    Allen Edmonds     F           RENT 2021-07-11   \n",
       "\n",
       "      last_credit_pull_date last_payment_date  ... sub_grade        term  \\\n",
       "38571            2021-05-16        2021-05-16  ...        C1   60 months   \n",
       "38572            2021-04-16        2021-05-16  ...        C1   60 months   \n",
       "38573            2021-05-16        2021-05-16  ...        D5   60 months   \n",
       "38574            2021-05-16        2021-05-16  ...        D5   60 months   \n",
       "38575            2021-05-16        2021-05-16  ...        F3   60 months   \n",
       "\n",
       "       verification_status annual_income     dti installment int_rate  \\\n",
       "38571             Verified      100000.0  0.1986      551.64   0.1299   \n",
       "38572             Verified       50000.0  0.0458      579.72   0.1349   \n",
       "38573             Verified       65000.0  0.1734      627.93   0.1749   \n",
       "38574             Verified      368000.0  0.0009      612.72   0.1825   \n",
       "38575             Verified       80000.0  0.0600      486.86   0.2099   \n",
       "\n",
       "       loan_amount  total_acc  total_payment  \n",
       "38571        24250         33          31946  \n",
       "38572        25200         18          31870  \n",
       "38573        25000         20          35721  \n",
       "38574        24000          9          33677  \n",
       "38575        18000          7          27679  \n",
       "\n",
       "[5 rows x 24 columns]"
      ]
     },
     "execution_count": 22,
     "metadata": {},
     "output_type": "execute_result"
    }
   ],
   "source": [
    "df.tail()"
   ]
  },
  {
   "cell_type": "code",
   "execution_count": 23,
   "id": "a0d290c2-8144-4ac2-8832-b16eb887c2da",
   "metadata": {},
   "outputs": [],
   "source": [
    "df['emp_length']=df['emp_length'].replace('< 1 year','1 year')"
   ]
  },
  {
   "cell_type": "code",
   "execution_count": 24,
   "id": "4383fb48-4eef-46ba-a7d0-e360d0536248",
   "metadata": {},
   "outputs": [
    {
     "data": {
      "text/html": [
       "<div>\n",
       "<style scoped>\n",
       "    .dataframe tbody tr th:only-of-type {\n",
       "        vertical-align: middle;\n",
       "    }\n",
       "\n",
       "    .dataframe tbody tr th {\n",
       "        vertical-align: top;\n",
       "    }\n",
       "\n",
       "    .dataframe thead th {\n",
       "        text-align: right;\n",
       "    }\n",
       "</style>\n",
       "<table border=\"1\" class=\"dataframe\">\n",
       "  <thead>\n",
       "    <tr style=\"text-align: right;\">\n",
       "      <th></th>\n",
       "      <th>id</th>\n",
       "      <th>address_state</th>\n",
       "      <th>application_type</th>\n",
       "      <th>emp_length</th>\n",
       "      <th>emp_title</th>\n",
       "      <th>grade</th>\n",
       "      <th>home_ownership</th>\n",
       "      <th>issue_date</th>\n",
       "      <th>last_credit_pull_date</th>\n",
       "      <th>last_payment_date</th>\n",
       "      <th>...</th>\n",
       "      <th>sub_grade</th>\n",
       "      <th>term</th>\n",
       "      <th>verification_status</th>\n",
       "      <th>annual_income</th>\n",
       "      <th>dti</th>\n",
       "      <th>installment</th>\n",
       "      <th>int_rate</th>\n",
       "      <th>loan_amount</th>\n",
       "      <th>total_acc</th>\n",
       "      <th>total_payment</th>\n",
       "    </tr>\n",
       "  </thead>\n",
       "  <tbody>\n",
       "    <tr>\n",
       "      <th>0</th>\n",
       "      <td>1077430</td>\n",
       "      <td>GA</td>\n",
       "      <td>INDIVIDUAL</td>\n",
       "      <td>1 year</td>\n",
       "      <td>Ryder</td>\n",
       "      <td>C</td>\n",
       "      <td>RENT</td>\n",
       "      <td>2021-02-11</td>\n",
       "      <td>2021-09-13</td>\n",
       "      <td>2021-04-13</td>\n",
       "      <td>...</td>\n",
       "      <td>C4</td>\n",
       "      <td>60 months</td>\n",
       "      <td>Source Verified</td>\n",
       "      <td>30000.0</td>\n",
       "      <td>0.0100</td>\n",
       "      <td>59.83</td>\n",
       "      <td>0.1527</td>\n",
       "      <td>2500</td>\n",
       "      <td>4</td>\n",
       "      <td>1009</td>\n",
       "    </tr>\n",
       "    <tr>\n",
       "      <th>1</th>\n",
       "      <td>1072053</td>\n",
       "      <td>CA</td>\n",
       "      <td>INDIVIDUAL</td>\n",
       "      <td>9 years</td>\n",
       "      <td>MKC Accounting</td>\n",
       "      <td>E</td>\n",
       "      <td>RENT</td>\n",
       "      <td>2021-01-01</td>\n",
       "      <td>2021-12-14</td>\n",
       "      <td>2021-01-15</td>\n",
       "      <td>...</td>\n",
       "      <td>E1</td>\n",
       "      <td>36 months</td>\n",
       "      <td>Source Verified</td>\n",
       "      <td>48000.0</td>\n",
       "      <td>0.0535</td>\n",
       "      <td>109.43</td>\n",
       "      <td>0.1864</td>\n",
       "      <td>3000</td>\n",
       "      <td>4</td>\n",
       "      <td>3939</td>\n",
       "    </tr>\n",
       "    <tr>\n",
       "      <th>2</th>\n",
       "      <td>1069243</td>\n",
       "      <td>CA</td>\n",
       "      <td>INDIVIDUAL</td>\n",
       "      <td>4 years</td>\n",
       "      <td>Chemat Technology Inc</td>\n",
       "      <td>C</td>\n",
       "      <td>RENT</td>\n",
       "      <td>2021-01-05</td>\n",
       "      <td>2021-12-12</td>\n",
       "      <td>2021-01-09</td>\n",
       "      <td>...</td>\n",
       "      <td>C5</td>\n",
       "      <td>36 months</td>\n",
       "      <td>Not Verified</td>\n",
       "      <td>50000.0</td>\n",
       "      <td>0.2088</td>\n",
       "      <td>421.65</td>\n",
       "      <td>0.1596</td>\n",
       "      <td>12000</td>\n",
       "      <td>11</td>\n",
       "      <td>3522</td>\n",
       "    </tr>\n",
       "    <tr>\n",
       "      <th>3</th>\n",
       "      <td>1041756</td>\n",
       "      <td>TX</td>\n",
       "      <td>INDIVIDUAL</td>\n",
       "      <td>1 year</td>\n",
       "      <td>barnes distribution</td>\n",
       "      <td>B</td>\n",
       "      <td>MORTGAGE</td>\n",
       "      <td>2021-02-25</td>\n",
       "      <td>2021-12-12</td>\n",
       "      <td>2021-03-12</td>\n",
       "      <td>...</td>\n",
       "      <td>B2</td>\n",
       "      <td>60 months</td>\n",
       "      <td>Source Verified</td>\n",
       "      <td>42000.0</td>\n",
       "      <td>0.0540</td>\n",
       "      <td>97.06</td>\n",
       "      <td>0.1065</td>\n",
       "      <td>4500</td>\n",
       "      <td>9</td>\n",
       "      <td>4911</td>\n",
       "    </tr>\n",
       "    <tr>\n",
       "      <th>4</th>\n",
       "      <td>1068350</td>\n",
       "      <td>IL</td>\n",
       "      <td>INDIVIDUAL</td>\n",
       "      <td>10+ years</td>\n",
       "      <td>J&amp;J Steel Inc</td>\n",
       "      <td>A</td>\n",
       "      <td>MORTGAGE</td>\n",
       "      <td>2021-01-01</td>\n",
       "      <td>2021-12-14</td>\n",
       "      <td>2021-01-15</td>\n",
       "      <td>...</td>\n",
       "      <td>A1</td>\n",
       "      <td>36 months</td>\n",
       "      <td>Verified</td>\n",
       "      <td>83000.0</td>\n",
       "      <td>0.0231</td>\n",
       "      <td>106.53</td>\n",
       "      <td>0.0603</td>\n",
       "      <td>3500</td>\n",
       "      <td>28</td>\n",
       "      <td>3835</td>\n",
       "    </tr>\n",
       "  </tbody>\n",
       "</table>\n",
       "<p>5 rows × 24 columns</p>\n",
       "</div>"
      ],
      "text/plain": [
       "        id address_state application_type emp_length              emp_title  \\\n",
       "0  1077430            GA       INDIVIDUAL     1 year                  Ryder   \n",
       "1  1072053            CA       INDIVIDUAL    9 years         MKC Accounting   \n",
       "2  1069243            CA       INDIVIDUAL    4 years  Chemat Technology Inc   \n",
       "3  1041756            TX       INDIVIDUAL     1 year    barnes distribution   \n",
       "4  1068350            IL       INDIVIDUAL  10+ years          J&J Steel Inc   \n",
       "\n",
       "  grade home_ownership issue_date last_credit_pull_date last_payment_date  \\\n",
       "0     C           RENT 2021-02-11            2021-09-13        2021-04-13   \n",
       "1     E           RENT 2021-01-01            2021-12-14        2021-01-15   \n",
       "2     C           RENT 2021-01-05            2021-12-12        2021-01-09   \n",
       "3     B       MORTGAGE 2021-02-25            2021-12-12        2021-03-12   \n",
       "4     A       MORTGAGE 2021-01-01            2021-12-14        2021-01-15   \n",
       "\n",
       "   ... sub_grade        term  verification_status annual_income     dti  \\\n",
       "0  ...        C4   60 months      Source Verified       30000.0  0.0100   \n",
       "1  ...        E1   36 months      Source Verified       48000.0  0.0535   \n",
       "2  ...        C5   36 months         Not Verified       50000.0  0.2088   \n",
       "3  ...        B2   60 months      Source Verified       42000.0  0.0540   \n",
       "4  ...        A1   36 months             Verified       83000.0  0.0231   \n",
       "\n",
       "  installment int_rate  loan_amount  total_acc  total_payment  \n",
       "0       59.83   0.1527         2500          4           1009  \n",
       "1      109.43   0.1864         3000          4           3939  \n",
       "2      421.65   0.1596        12000         11           3522  \n",
       "3       97.06   0.1065         4500          9           4911  \n",
       "4      106.53   0.0603         3500         28           3835  \n",
       "\n",
       "[5 rows x 24 columns]"
      ]
     },
     "execution_count": 24,
     "metadata": {},
     "output_type": "execute_result"
    }
   ],
   "source": [
    "df.head()"
   ]
  },
  {
   "cell_type": "code",
   "execution_count": 25,
   "id": "89987f8b-d73d-491e-a8d5-065003edb31f",
   "metadata": {},
   "outputs": [],
   "source": [
    "df['emp_length']=df['emp_length'].replace('10+ years','10 year')"
   ]
  },
  {
   "cell_type": "code",
   "execution_count": 26,
   "id": "1d953973-120c-4b38-bedc-9fb3aaaa48e7",
   "metadata": {
    "scrolled": true
   },
   "outputs": [
    {
     "data": {
      "text/html": [
       "<div>\n",
       "<style scoped>\n",
       "    .dataframe tbody tr th:only-of-type {\n",
       "        vertical-align: middle;\n",
       "    }\n",
       "\n",
       "    .dataframe tbody tr th {\n",
       "        vertical-align: top;\n",
       "    }\n",
       "\n",
       "    .dataframe thead th {\n",
       "        text-align: right;\n",
       "    }\n",
       "</style>\n",
       "<table border=\"1\" class=\"dataframe\">\n",
       "  <thead>\n",
       "    <tr style=\"text-align: right;\">\n",
       "      <th></th>\n",
       "      <th>id</th>\n",
       "      <th>address_state</th>\n",
       "      <th>application_type</th>\n",
       "      <th>emp_length</th>\n",
       "      <th>emp_title</th>\n",
       "      <th>grade</th>\n",
       "      <th>home_ownership</th>\n",
       "      <th>issue_date</th>\n",
       "      <th>last_credit_pull_date</th>\n",
       "      <th>last_payment_date</th>\n",
       "      <th>...</th>\n",
       "      <th>sub_grade</th>\n",
       "      <th>term</th>\n",
       "      <th>verification_status</th>\n",
       "      <th>annual_income</th>\n",
       "      <th>dti</th>\n",
       "      <th>installment</th>\n",
       "      <th>int_rate</th>\n",
       "      <th>loan_amount</th>\n",
       "      <th>total_acc</th>\n",
       "      <th>total_payment</th>\n",
       "    </tr>\n",
       "  </thead>\n",
       "  <tbody>\n",
       "    <tr>\n",
       "      <th>0</th>\n",
       "      <td>1077430</td>\n",
       "      <td>GA</td>\n",
       "      <td>INDIVIDUAL</td>\n",
       "      <td>1 year</td>\n",
       "      <td>Ryder</td>\n",
       "      <td>C</td>\n",
       "      <td>RENT</td>\n",
       "      <td>2021-02-11</td>\n",
       "      <td>2021-09-13</td>\n",
       "      <td>2021-04-13</td>\n",
       "      <td>...</td>\n",
       "      <td>C4</td>\n",
       "      <td>60 months</td>\n",
       "      <td>Source Verified</td>\n",
       "      <td>30000.0</td>\n",
       "      <td>0.0100</td>\n",
       "      <td>59.83</td>\n",
       "      <td>0.1527</td>\n",
       "      <td>2500</td>\n",
       "      <td>4</td>\n",
       "      <td>1009</td>\n",
       "    </tr>\n",
       "    <tr>\n",
       "      <th>1</th>\n",
       "      <td>1072053</td>\n",
       "      <td>CA</td>\n",
       "      <td>INDIVIDUAL</td>\n",
       "      <td>9 years</td>\n",
       "      <td>MKC Accounting</td>\n",
       "      <td>E</td>\n",
       "      <td>RENT</td>\n",
       "      <td>2021-01-01</td>\n",
       "      <td>2021-12-14</td>\n",
       "      <td>2021-01-15</td>\n",
       "      <td>...</td>\n",
       "      <td>E1</td>\n",
       "      <td>36 months</td>\n",
       "      <td>Source Verified</td>\n",
       "      <td>48000.0</td>\n",
       "      <td>0.0535</td>\n",
       "      <td>109.43</td>\n",
       "      <td>0.1864</td>\n",
       "      <td>3000</td>\n",
       "      <td>4</td>\n",
       "      <td>3939</td>\n",
       "    </tr>\n",
       "    <tr>\n",
       "      <th>2</th>\n",
       "      <td>1069243</td>\n",
       "      <td>CA</td>\n",
       "      <td>INDIVIDUAL</td>\n",
       "      <td>4 years</td>\n",
       "      <td>Chemat Technology Inc</td>\n",
       "      <td>C</td>\n",
       "      <td>RENT</td>\n",
       "      <td>2021-01-05</td>\n",
       "      <td>2021-12-12</td>\n",
       "      <td>2021-01-09</td>\n",
       "      <td>...</td>\n",
       "      <td>C5</td>\n",
       "      <td>36 months</td>\n",
       "      <td>Not Verified</td>\n",
       "      <td>50000.0</td>\n",
       "      <td>0.2088</td>\n",
       "      <td>421.65</td>\n",
       "      <td>0.1596</td>\n",
       "      <td>12000</td>\n",
       "      <td>11</td>\n",
       "      <td>3522</td>\n",
       "    </tr>\n",
       "    <tr>\n",
       "      <th>3</th>\n",
       "      <td>1041756</td>\n",
       "      <td>TX</td>\n",
       "      <td>INDIVIDUAL</td>\n",
       "      <td>1 year</td>\n",
       "      <td>barnes distribution</td>\n",
       "      <td>B</td>\n",
       "      <td>MORTGAGE</td>\n",
       "      <td>2021-02-25</td>\n",
       "      <td>2021-12-12</td>\n",
       "      <td>2021-03-12</td>\n",
       "      <td>...</td>\n",
       "      <td>B2</td>\n",
       "      <td>60 months</td>\n",
       "      <td>Source Verified</td>\n",
       "      <td>42000.0</td>\n",
       "      <td>0.0540</td>\n",
       "      <td>97.06</td>\n",
       "      <td>0.1065</td>\n",
       "      <td>4500</td>\n",
       "      <td>9</td>\n",
       "      <td>4911</td>\n",
       "    </tr>\n",
       "    <tr>\n",
       "      <th>4</th>\n",
       "      <td>1068350</td>\n",
       "      <td>IL</td>\n",
       "      <td>INDIVIDUAL</td>\n",
       "      <td>10 year</td>\n",
       "      <td>J&amp;J Steel Inc</td>\n",
       "      <td>A</td>\n",
       "      <td>MORTGAGE</td>\n",
       "      <td>2021-01-01</td>\n",
       "      <td>2021-12-14</td>\n",
       "      <td>2021-01-15</td>\n",
       "      <td>...</td>\n",
       "      <td>A1</td>\n",
       "      <td>36 months</td>\n",
       "      <td>Verified</td>\n",
       "      <td>83000.0</td>\n",
       "      <td>0.0231</td>\n",
       "      <td>106.53</td>\n",
       "      <td>0.0603</td>\n",
       "      <td>3500</td>\n",
       "      <td>28</td>\n",
       "      <td>3835</td>\n",
       "    </tr>\n",
       "  </tbody>\n",
       "</table>\n",
       "<p>5 rows × 24 columns</p>\n",
       "</div>"
      ],
      "text/plain": [
       "        id address_state application_type emp_length              emp_title  \\\n",
       "0  1077430            GA       INDIVIDUAL     1 year                  Ryder   \n",
       "1  1072053            CA       INDIVIDUAL    9 years         MKC Accounting   \n",
       "2  1069243            CA       INDIVIDUAL    4 years  Chemat Technology Inc   \n",
       "3  1041756            TX       INDIVIDUAL     1 year    barnes distribution   \n",
       "4  1068350            IL       INDIVIDUAL    10 year          J&J Steel Inc   \n",
       "\n",
       "  grade home_ownership issue_date last_credit_pull_date last_payment_date  \\\n",
       "0     C           RENT 2021-02-11            2021-09-13        2021-04-13   \n",
       "1     E           RENT 2021-01-01            2021-12-14        2021-01-15   \n",
       "2     C           RENT 2021-01-05            2021-12-12        2021-01-09   \n",
       "3     B       MORTGAGE 2021-02-25            2021-12-12        2021-03-12   \n",
       "4     A       MORTGAGE 2021-01-01            2021-12-14        2021-01-15   \n",
       "\n",
       "   ... sub_grade        term  verification_status annual_income     dti  \\\n",
       "0  ...        C4   60 months      Source Verified       30000.0  0.0100   \n",
       "1  ...        E1   36 months      Source Verified       48000.0  0.0535   \n",
       "2  ...        C5   36 months         Not Verified       50000.0  0.2088   \n",
       "3  ...        B2   60 months      Source Verified       42000.0  0.0540   \n",
       "4  ...        A1   36 months             Verified       83000.0  0.0231   \n",
       "\n",
       "  installment int_rate  loan_amount  total_acc  total_payment  \n",
       "0       59.83   0.1527         2500          4           1009  \n",
       "1      109.43   0.1864         3000          4           3939  \n",
       "2      421.65   0.1596        12000         11           3522  \n",
       "3       97.06   0.1065         4500          9           4911  \n",
       "4      106.53   0.0603         3500         28           3835  \n",
       "\n",
       "[5 rows x 24 columns]"
      ]
     },
     "execution_count": 26,
     "metadata": {},
     "output_type": "execute_result"
    }
   ],
   "source": [
    "df.head()"
   ]
  },
  {
   "cell_type": "code",
   "execution_count": 27,
   "id": "465a4af5-01df-400f-9ee5-c254b8531362",
   "metadata": {
    "collapsed": true,
    "jupyter": {
     "outputs_hidden": true
    }
   },
   "outputs": [
    {
     "data": {
      "text/plain": [
       "Index(['id', 'address_state', 'application_type', 'emp_length', 'emp_title',\n",
       "       'grade', 'home_ownership', 'issue_date', 'last_credit_pull_date',\n",
       "       'last_payment_date', 'loan_status', 'next_payment_date', 'member_id',\n",
       "       'purpose', 'sub_grade', 'term', 'verification_status', 'annual_income',\n",
       "       'dti', 'installment', 'int_rate', 'loan_amount', 'total_acc',\n",
       "       'total_payment'],\n",
       "      dtype='object')"
      ]
     },
     "execution_count": 27,
     "metadata": {},
     "output_type": "execute_result"
    }
   ],
   "source": [
    "df.columns"
   ]
  },
  {
   "cell_type": "code",
   "execution_count": 28,
   "id": "d494b87b-6dad-418d-b157-79a06af656e8",
   "metadata": {},
   "outputs": [],
   "source": [
    "avg_annual_income=df.groupby('annual_income')['loan_amount'].mean()"
   ]
  },
  {
   "cell_type": "code",
   "execution_count": 29,
   "id": "2af485b4-522e-436c-add8-025af5960db8",
   "metadata": {},
   "outputs": [
    {
     "data": {
      "text/plain": [
       "annual_income\n",
       "4000.0        2000.0\n",
       "4080.0        1400.0\n",
       "4200.0        2750.0\n",
       "4800.0        1800.0\n",
       "4888.0        1400.0\n",
       "              ...   \n",
       "1782000.0    12025.0\n",
       "1900000.0     1500.0\n",
       "2039784.0     8450.0\n",
       "3900000.0    25000.0\n",
       "6000000.0     5000.0\n",
       "Name: loan_amount, Length: 5096, dtype: float64"
      ]
     },
     "execution_count": 29,
     "metadata": {},
     "output_type": "execute_result"
    }
   ],
   "source": [
    "avg_annual_income"
   ]
  },
  {
   "cell_type": "code",
   "execution_count": 30,
   "id": "e8b47168-032a-4875-96b9-8d4571c2e75e",
   "metadata": {},
   "outputs": [],
   "source": [
    "result=df['annual_income'].mean()"
   ]
  },
  {
   "cell_type": "code",
   "execution_count": 31,
   "id": "0a94b5d4-546d-4444-923e-917a9907c01b",
   "metadata": {},
   "outputs": [
    {
     "data": {
      "text/plain": [
       "np.float64(69644.54031003732)"
      ]
     },
     "execution_count": 31,
     "metadata": {},
     "output_type": "execute_result"
    }
   ],
   "source": [
    "result"
   ]
  },
  {
   "cell_type": "code",
   "execution_count": 32,
   "id": "1fafb24b-c01b-4939-b2e8-4290f1382216",
   "metadata": {},
   "outputs": [
    {
     "data": {
      "text/plain": [
       "np.float64(11296.066855039402)"
      ]
     },
     "execution_count": 32,
     "metadata": {},
     "output_type": "execute_result"
    }
   ],
   "source": [
    "Score=df['loan_amount'].mean()\n",
    "Score"
   ]
  },
  {
   "cell_type": "code",
   "execution_count": 33,
   "id": "6eb395b2-79d4-48b6-a335-dd1584cebe7c",
   "metadata": {},
   "outputs": [
    {
     "data": {
      "text/plain": [
       "np.float64(12263.348532766488)"
      ]
     },
     "execution_count": 33,
     "metadata": {},
     "output_type": "execute_result"
    }
   ],
   "source": [
    "payment=df['total_payment'].mean()\n",
    "payment"
   ]
  },
  {
   "cell_type": "code",
   "execution_count": 34,
   "id": "0c3c5dac-3c72-469e-b030-a26b7084d975",
   "metadata": {},
   "outputs": [
    {
     "data": {
      "image/png": "[encoded data removed]",
      "text/plain": [
       "<Figure size 640x480 with 1 Axes>"
      ]
     },
     "metadata": {},
     "output_type": "display_data"
    }
   ],
   "source": [
    "df['application_type'].hist()\n",
    "plt.show()"
   ]
  },
  {
   "cell_type": "code",
   "execution_count": 35,
   "id": "3ed2ef24-0a36-4651-8004-29cd30f92ebf",
   "metadata": {},
   "outputs": [
    {
     "data": {
      "text/plain": [
       "purpose\n",
       "Debt consolidation    67846.561670\n",
       "car                   62681.970969\n",
       "credit card           70994.439396\n",
       "educational           54042.668508\n",
       "home improvement      91042.380056\n",
       "house                 78125.224481\n",
       "major purchase        67063.463502\n",
       "medical               69315.476147\n",
       "moving                62587.266816\n",
       "other                 64099.074995\n",
       "renewable_energy      81331.049255\n",
       "small business        75414.329229\n",
       "vacation              60710.732756\n",
       "wedding               68901.525377\n",
       "Name: annual_income, dtype: float64"
      ]
     },
     "execution_count": 35,
     "metadata": {},
     "output_type": "execute_result"
    }
   ],
   "source": [
    "grouped=df.groupby('purpose')['annual_income'].mean()\n",
    "grouped"
   ]
  },
  {
   "cell_type": "code",
   "execution_count": 36,
   "id": "90aa5b07-2375-459f-86a6-eebd53b883f3",
   "metadata": {},
   "outputs": [
    {
     "data": {
      "text/plain": [
       "grade\n",
       "A    67533.991024\n",
       "B    68320.577551\n",
       "C    68482.656662\n",
       "D    69092.806177\n",
       "E    78328.377943\n",
       "F    85115.680263\n",
       "G    94724.937732\n",
       "Name: annual_income, dtype: float64"
      ]
     },
     "execution_count": 36,
     "metadata": {},
     "output_type": "execute_result"
    }
   ],
   "source": [
    "grp=df.groupby('grade')['annual_income'].mean()\n",
    "grp"
   ]
  },
  {
   "cell_type": "code",
   "execution_count": 37,
   "id": "f85152b3-8e69-4986-b47c-16a3abfd4384",
   "metadata": {},
   "outputs": [
    {
     "data": {
      "text/plain": [
       "home_ownership\n",
       "MORTGAGE    12753.177695\n",
       "NONE         5600.000000\n",
       "OTHER       10663.010204\n",
       "OWN         10429.060958\n",
       "RENT        10074.758664\n",
       "Name: loan_amount, dtype: float64"
      ]
     },
     "execution_count": 37,
     "metadata": {},
     "output_type": "execute_result"
    }
   ],
   "source": [
    "gp=df.groupby('home_ownership')['loan_amount'].mean()\n",
    "gp"
   ]
  },
  {
   "cell_type": "code",
   "execution_count": 38,
   "id": "e4cab59c-b7f1-43b0-8165-fe4da315d976",
   "metadata": {},
   "outputs": [
    {
     "data": {
      "text/plain": [
       "loan_status\n",
       "Charged Off    12288.060191\n",
       "Current        17182.604736\n",
       "Fully Paid     10930.419972\n",
       "Name: loan_amount, dtype: float64"
      ]
     },
     "execution_count": 38,
     "metadata": {},
     "output_type": "execute_result"
    }
   ],
   "source": [
    "group=df.groupby('loan_status')['loan_amount'].mean()\n",
    "group"
   ]
  },
  {
   "cell_type": "code",
   "execution_count": 39,
   "id": "0ef58d79-2e00-4714-b605-aaf245d22cc0",
   "metadata": {},
   "outputs": [
    {
     "data": {
      "text/plain": [
       "loan_status\n",
       "Charged Off     6991.330021\n",
       "Current        22039.994536\n",
       "Fully Paid     12804.052139\n",
       "Name: total_payment, dtype: float64"
      ]
     },
     "execution_count": 39,
     "metadata": {},
     "output_type": "execute_result"
    }
   ],
   "source": [
    "groups=df.groupby('loan_status')['total_payment'].mean()\n",
    "groups"
   ]
  },
  {
   "cell_type": "code",
   "execution_count": 40,
   "id": "27134ef7-eb9d-429f-838c-cd6ca953a583",
   "metadata": {},
   "outputs": [
    {
     "data": {
      "text/plain": [
       "loan_status\n",
       "Charged Off    63515.728245\n",
       "Current        76487.821366\n",
       "Fully Paid     70427.586885\n",
       "Name: annual_income, dtype: float64"
      ]
     },
     "execution_count": 40,
     "metadata": {},
     "output_type": "execute_result"
    }
   ],
   "source": [
    "Group=df.groupby('loan_status')['annual_income'].mean()\n",
    "Group"
   ]
  },
  {
   "cell_type": "code",
   "execution_count": 41,
   "id": "c3fb4972-4eee-4d66-86a4-bbe1ec46367b",
   "metadata": {},
   "outputs": [
    {
     "data": {
      "text/html": [
       "<div>\n",
       "<style scoped>\n",
       "    .dataframe tbody tr th:only-of-type {\n",
       "        vertical-align: middle;\n",
       "    }\n",
       "\n",
       "    .dataframe tbody tr th {\n",
       "        vertical-align: top;\n",
       "    }\n",
       "\n",
       "    .dataframe thead th {\n",
       "        text-align: right;\n",
       "    }\n",
       "</style>\n",
       "<table border=\"1\" class=\"dataframe\">\n",
       "  <thead>\n",
       "    <tr style=\"text-align: right;\">\n",
       "      <th></th>\n",
       "      <th>loan_amount</th>\n",
       "    </tr>\n",
       "    <tr>\n",
       "      <th>term</th>\n",
       "      <th></th>\n",
       "    </tr>\n",
       "  </thead>\n",
       "  <tbody>\n",
       "    <tr>\n",
       "      <th>36 months</th>\n",
       "      <td>273041225</td>\n",
       "    </tr>\n",
       "    <tr>\n",
       "      <th>60 months</th>\n",
       "      <td>162715850</td>\n",
       "    </tr>\n",
       "  </tbody>\n",
       "</table>\n",
       "</div>"
      ],
      "text/plain": [
       "           loan_amount\n",
       "term                  \n",
       "36 months    273041225\n",
       "60 months    162715850"
      ]
     },
     "execution_count": 41,
     "metadata": {},
     "output_type": "execute_result"
    }
   ],
   "source": [
    "test=df.groupby('term').agg({'loan_amount':'sum'})\n",
    "test"
   ]
  },
  {
   "cell_type": "code",
   "execution_count": 42,
   "id": "3b0bfe36-9da8-4e18-bff9-6cbb263755cd",
   "metadata": {},
   "outputs": [
    {
     "data": {
      "text/html": [
       "<div>\n",
       "<style scoped>\n",
       "    .dataframe tbody tr th:only-of-type {\n",
       "        vertical-align: middle;\n",
       "    }\n",
       "\n",
       "    .dataframe tbody tr th {\n",
       "        vertical-align: top;\n",
       "    }\n",
       "\n",
       "    .dataframe thead th {\n",
       "        text-align: right;\n",
       "    }\n",
       "</style>\n",
       "<table border=\"1\" class=\"dataframe\">\n",
       "  <thead>\n",
       "    <tr style=\"text-align: right;\">\n",
       "      <th></th>\n",
       "      <th>total_payment</th>\n",
       "    </tr>\n",
       "    <tr>\n",
       "      <th>sub_grade</th>\n",
       "      <th></th>\n",
       "    </tr>\n",
       "  </thead>\n",
       "  <tbody>\n",
       "    <tr>\n",
       "      <th>A1</th>\n",
       "      <td>7767.437262</td>\n",
       "    </tr>\n",
       "    <tr>\n",
       "      <th>A2</th>\n",
       "      <td>7696.325694</td>\n",
       "    </tr>\n",
       "    <tr>\n",
       "      <th>A3</th>\n",
       "      <td>8184.326437</td>\n",
       "    </tr>\n",
       "    <tr>\n",
       "      <th>A4</th>\n",
       "      <td>9842.420978</td>\n",
       "    </tr>\n",
       "    <tr>\n",
       "      <th>A5</th>\n",
       "      <td>10161.445365</td>\n",
       "    </tr>\n",
       "    <tr>\n",
       "      <th>B1</th>\n",
       "      <td>10716.402627</td>\n",
       "    </tr>\n",
       "    <tr>\n",
       "      <th>B2</th>\n",
       "      <td>11462.107035</td>\n",
       "    </tr>\n",
       "    <tr>\n",
       "      <th>B3</th>\n",
       "      <td>12530.377205</td>\n",
       "    </tr>\n",
       "    <tr>\n",
       "      <th>B4</th>\n",
       "      <td>12309.474949</td>\n",
       "    </tr>\n",
       "    <tr>\n",
       "      <th>B5</th>\n",
       "      <td>12658.907337</td>\n",
       "    </tr>\n",
       "    <tr>\n",
       "      <th>C1</th>\n",
       "      <td>12294.992820</td>\n",
       "    </tr>\n",
       "    <tr>\n",
       "      <th>C2</th>\n",
       "      <td>12721.889959</td>\n",
       "    </tr>\n",
       "    <tr>\n",
       "      <th>C3</th>\n",
       "      <td>11920.932886</td>\n",
       "    </tr>\n",
       "    <tr>\n",
       "      <th>C4</th>\n",
       "      <td>11531.500000</td>\n",
       "    </tr>\n",
       "    <tr>\n",
       "      <th>C5</th>\n",
       "      <td>11797.270200</td>\n",
       "    </tr>\n",
       "    <tr>\n",
       "      <th>D1</th>\n",
       "      <td>11074.312158</td>\n",
       "    </tr>\n",
       "    <tr>\n",
       "      <th>D2</th>\n",
       "      <td>12965.495434</td>\n",
       "    </tr>\n",
       "    <tr>\n",
       "      <th>D3</th>\n",
       "      <td>13883.784091</td>\n",
       "    </tr>\n",
       "    <tr>\n",
       "      <th>D4</th>\n",
       "      <td>15147.344792</td>\n",
       "    </tr>\n",
       "    <tr>\n",
       "      <th>D5</th>\n",
       "      <td>15572.130435</td>\n",
       "    </tr>\n",
       "    <tr>\n",
       "      <th>E1</th>\n",
       "      <td>16153.324000</td>\n",
       "    </tr>\n",
       "    <tr>\n",
       "      <th>E2</th>\n",
       "      <td>16921.167187</td>\n",
       "    </tr>\n",
       "    <tr>\n",
       "      <th>E3</th>\n",
       "      <td>17894.905204</td>\n",
       "    </tr>\n",
       "    <tr>\n",
       "      <th>E4</th>\n",
       "      <td>18486.071429</td>\n",
       "    </tr>\n",
       "    <tr>\n",
       "      <th>E5</th>\n",
       "      <td>20269.248780</td>\n",
       "    </tr>\n",
       "    <tr>\n",
       "      <th>F1</th>\n",
       "      <td>20489.221538</td>\n",
       "    </tr>\n",
       "    <tr>\n",
       "      <th>F2</th>\n",
       "      <td>20139.304527</td>\n",
       "    </tr>\n",
       "    <tr>\n",
       "      <th>F3</th>\n",
       "      <td>21082.615385</td>\n",
       "    </tr>\n",
       "    <tr>\n",
       "      <th>F4</th>\n",
       "      <td>19694.920245</td>\n",
       "    </tr>\n",
       "    <tr>\n",
       "      <th>F5</th>\n",
       "      <td>21013.756522</td>\n",
       "    </tr>\n",
       "    <tr>\n",
       "      <th>G1</th>\n",
       "      <td>23603.950495</td>\n",
       "    </tr>\n",
       "    <tr>\n",
       "      <th>G2</th>\n",
       "      <td>22519.692308</td>\n",
       "    </tr>\n",
       "    <tr>\n",
       "      <th>G3</th>\n",
       "      <td>21453.729167</td>\n",
       "    </tr>\n",
       "    <tr>\n",
       "      <th>G4</th>\n",
       "      <td>25822.125000</td>\n",
       "    </tr>\n",
       "    <tr>\n",
       "      <th>G5</th>\n",
       "      <td>21656.800000</td>\n",
       "    </tr>\n",
       "  </tbody>\n",
       "</table>\n",
       "</div>"
      ],
      "text/plain": [
       "           total_payment\n",
       "sub_grade               \n",
       "A1           7767.437262\n",
       "A2           7696.325694\n",
       "A3           8184.326437\n",
       "A4           9842.420978\n",
       "A5          10161.445365\n",
       "B1          10716.402627\n",
       "B2          11462.107035\n",
       "B3          12530.377205\n",
       "B4          12309.474949\n",
       "B5          12658.907337\n",
       "C1          12294.992820\n",
       "C2          12721.889959\n",
       "C3          11920.932886\n",
       "C4          11531.500000\n",
       "C5          11797.270200\n",
       "D1          11074.312158\n",
       "D2          12965.495434\n",
       "D3          13883.784091\n",
       "D4          15147.344792\n",
       "D5          15572.130435\n",
       "E1          16153.324000\n",
       "E2          16921.167187\n",
       "E3          17894.905204\n",
       "E4          18486.071429\n",
       "E5          20269.248780\n",
       "F1          20489.221538\n",
       "F2          20139.304527\n",
       "F3          21082.615385\n",
       "F4          19694.920245\n",
       "F5          21013.756522\n",
       "G1          23603.950495\n",
       "G2          22519.692308\n",
       "G3          21453.729167\n",
       "G4          25822.125000\n",
       "G5          21656.800000"
      ]
     },
     "execution_count": 42,
     "metadata": {},
     "output_type": "execute_result"
    }
   ],
   "source": [
    "txt=df.groupby('sub_grade').agg({'total_payment':'mean'})\n",
    "txt"
   ]
  },
  {
   "cell_type": "code",
   "execution_count": 43,
   "id": "9b4bcb7d-e908-4ee4-b146-f4f7de8058d1",
   "metadata": {},
   "outputs": [
    {
     "data": {
      "text/html": [
       "<div>\n",
       "<style scoped>\n",
       "    .dataframe tbody tr th:only-of-type {\n",
       "        vertical-align: middle;\n",
       "    }\n",
       "\n",
       "    .dataframe tbody tr th {\n",
       "        vertical-align: top;\n",
       "    }\n",
       "\n",
       "    .dataframe thead th {\n",
       "        text-align: right;\n",
       "    }\n",
       "</style>\n",
       "<table border=\"1\" class=\"dataframe\">\n",
       "  <thead>\n",
       "    <tr style=\"text-align: right;\">\n",
       "      <th></th>\n",
       "      <th>annual_income</th>\n",
       "    </tr>\n",
       "    <tr>\n",
       "      <th>address_state</th>\n",
       "      <th></th>\n",
       "    </tr>\n",
       "  </thead>\n",
       "  <tbody>\n",
       "    <tr>\n",
       "      <th>AK</th>\n",
       "      <td>78759.090256</td>\n",
       "    </tr>\n",
       "    <tr>\n",
       "      <th>AL</th>\n",
       "      <td>63085.690880</td>\n",
       "    </tr>\n",
       "    <tr>\n",
       "      <th>AR</th>\n",
       "      <td>60025.896695</td>\n",
       "    </tr>\n",
       "    <tr>\n",
       "      <th>AZ</th>\n",
       "      <td>68087.739784</td>\n",
       "    </tr>\n",
       "    <tr>\n",
       "      <th>CA</th>\n",
       "      <td>72558.934922</td>\n",
       "    </tr>\n",
       "    <tr>\n",
       "      <th>CO</th>\n",
       "      <td>68102.769753</td>\n",
       "    </tr>\n",
       "    <tr>\n",
       "      <th>CT</th>\n",
       "      <td>76426.845932</td>\n",
       "    </tr>\n",
       "    <tr>\n",
       "      <th>DC</th>\n",
       "      <td>77772.504673</td>\n",
       "    </tr>\n",
       "    <tr>\n",
       "      <th>DE</th>\n",
       "      <td>66564.545455</td>\n",
       "    </tr>\n",
       "    <tr>\n",
       "      <th>FL</th>\n",
       "      <td>65331.953588</td>\n",
       "    </tr>\n",
       "    <tr>\n",
       "      <th>GA</th>\n",
       "      <td>69585.382258</td>\n",
       "    </tr>\n",
       "    <tr>\n",
       "      <th>HI</th>\n",
       "      <td>63018.079059</td>\n",
       "    </tr>\n",
       "    <tr>\n",
       "      <th>IA</th>\n",
       "      <td>50599.200000</td>\n",
       "    </tr>\n",
       "    <tr>\n",
       "      <th>ID</th>\n",
       "      <td>57792.933333</td>\n",
       "    </tr>\n",
       "    <tr>\n",
       "      <th>IL</th>\n",
       "      <td>69911.666191</td>\n",
       "    </tr>\n",
       "    <tr>\n",
       "      <th>IN</th>\n",
       "      <td>35416.111111</td>\n",
       "    </tr>\n",
       "    <tr>\n",
       "      <th>KS</th>\n",
       "      <td>63501.781077</td>\n",
       "    </tr>\n",
       "    <tr>\n",
       "      <th>KY</th>\n",
       "      <td>61106.057750</td>\n",
       "    </tr>\n",
       "    <tr>\n",
       "      <th>LA</th>\n",
       "      <td>74543.005822</td>\n",
       "    </tr>\n",
       "    <tr>\n",
       "      <th>MA</th>\n",
       "      <td>73542.916595</td>\n",
       "    </tr>\n",
       "    <tr>\n",
       "      <th>MD</th>\n",
       "      <td>78314.101626</td>\n",
       "    </tr>\n",
       "    <tr>\n",
       "      <th>ME</th>\n",
       "      <td>23866.666667</td>\n",
       "    </tr>\n",
       "    <tr>\n",
       "      <th>MI</th>\n",
       "      <td>66900.522891</td>\n",
       "    </tr>\n",
       "    <tr>\n",
       "      <th>MN</th>\n",
       "      <td>60902.009274</td>\n",
       "    </tr>\n",
       "    <tr>\n",
       "      <th>MO</th>\n",
       "      <td>61738.638758</td>\n",
       "    </tr>\n",
       "    <tr>\n",
       "      <th>MS</th>\n",
       "      <td>55121.526316</td>\n",
       "    </tr>\n",
       "    <tr>\n",
       "      <th>MT</th>\n",
       "      <td>55274.124051</td>\n",
       "    </tr>\n",
       "    <tr>\n",
       "      <th>NC</th>\n",
       "      <td>65702.779381</td>\n",
       "    </tr>\n",
       "    <tr>\n",
       "      <th>NE</th>\n",
       "      <td>49624.000000</td>\n",
       "    </tr>\n",
       "    <tr>\n",
       "      <th>NH</th>\n",
       "      <td>69741.089565</td>\n",
       "    </tr>\n",
       "    <tr>\n",
       "      <th>NJ</th>\n",
       "      <td>75149.568968</td>\n",
       "    </tr>\n",
       "    <tr>\n",
       "      <th>NM</th>\n",
       "      <td>84666.168962</td>\n",
       "    </tr>\n",
       "    <tr>\n",
       "      <th>NV</th>\n",
       "      <td>69878.393776</td>\n",
       "    </tr>\n",
       "    <tr>\n",
       "      <th>NY</th>\n",
       "      <td>72159.510008</td>\n",
       "    </tr>\n",
       "    <tr>\n",
       "      <th>OH</th>\n",
       "      <td>60785.244234</td>\n",
       "    </tr>\n",
       "    <tr>\n",
       "      <th>OK</th>\n",
       "      <td>62369.447645</td>\n",
       "    </tr>\n",
       "    <tr>\n",
       "      <th>OR</th>\n",
       "      <td>58386.422156</td>\n",
       "    </tr>\n",
       "    <tr>\n",
       "      <th>PA</th>\n",
       "      <td>63097.620020</td>\n",
       "    </tr>\n",
       "    <tr>\n",
       "      <th>RI</th>\n",
       "      <td>69035.616327</td>\n",
       "    </tr>\n",
       "    <tr>\n",
       "      <th>SC</th>\n",
       "      <td>63218.079655</td>\n",
       "    </tr>\n",
       "    <tr>\n",
       "      <th>SD</th>\n",
       "      <td>49522.078730</td>\n",
       "    </tr>\n",
       "    <tr>\n",
       "      <th>TN</th>\n",
       "      <td>61530.058824</td>\n",
       "    </tr>\n",
       "    <tr>\n",
       "      <th>TX</th>\n",
       "      <td>74066.193780</td>\n",
       "    </tr>\n",
       "    <tr>\n",
       "      <th>UT</th>\n",
       "      <td>66146.671111</td>\n",
       "    </tr>\n",
       "    <tr>\n",
       "      <th>VA</th>\n",
       "      <td>74341.230276</td>\n",
       "    </tr>\n",
       "    <tr>\n",
       "      <th>VT</th>\n",
       "      <td>53985.955741</td>\n",
       "    </tr>\n",
       "    <tr>\n",
       "      <th>WA</th>\n",
       "      <td>66887.277267</td>\n",
       "    </tr>\n",
       "    <tr>\n",
       "      <th>WI</th>\n",
       "      <td>63445.098453</td>\n",
       "    </tr>\n",
       "    <tr>\n",
       "      <th>WV</th>\n",
       "      <td>56216.736287</td>\n",
       "    </tr>\n",
       "    <tr>\n",
       "      <th>WY</th>\n",
       "      <td>58220.557975</td>\n",
       "    </tr>\n",
       "  </tbody>\n",
       "</table>\n",
       "</div>"
      ],
      "text/plain": [
       "               annual_income\n",
       "address_state               \n",
       "AK              78759.090256\n",
       "AL              63085.690880\n",
       "AR              60025.896695\n",
       "AZ              68087.739784\n",
       "CA              72558.934922\n",
       "CO              68102.769753\n",
       "CT              76426.845932\n",
       "DC              77772.504673\n",
       "DE              66564.545455\n",
       "FL              65331.953588\n",
       "GA              69585.382258\n",
       "HI              63018.079059\n",
       "IA              50599.200000\n",
       "ID              57792.933333\n",
       "IL              69911.666191\n",
       "IN              35416.111111\n",
       "KS              63501.781077\n",
       "KY              61106.057750\n",
       "LA              74543.005822\n",
       "MA              73542.916595\n",
       "MD              78314.101626\n",
       "ME              23866.666667\n",
       "MI              66900.522891\n",
       "MN              60902.009274\n",
       "MO              61738.638758\n",
       "MS              55121.526316\n",
       "MT              55274.124051\n",
       "NC              65702.779381\n",
       "NE              49624.000000\n",
       "NH              69741.089565\n",
       "NJ              75149.568968\n",
       "NM              84666.168962\n",
       "NV              69878.393776\n",
       "NY              72159.510008\n",
       "OH              60785.244234\n",
       "OK              62369.447645\n",
       "OR              58386.422156\n",
       "PA              63097.620020\n",
       "RI              69035.616327\n",
       "SC              63218.079655\n",
       "SD              49522.078730\n",
       "TN              61530.058824\n",
       "TX              74066.193780\n",
       "UT              66146.671111\n",
       "VA              74341.230276\n",
       "VT              53985.955741\n",
       "WA              66887.277267\n",
       "WI              63445.098453\n",
       "WV              56216.736287\n",
       "WY              58220.557975"
      ]
     },
     "execution_count": 43,
     "metadata": {},
     "output_type": "execute_result"
    }
   ],
   "source": [
    "text=df.groupby('address_state').agg({'annual_income':'mean'})\n",
    "text"
   ]
  },
  {
   "cell_type": "code",
   "execution_count": 44,
   "id": "21a8aeac-e31f-464a-aa0b-01e421efe9fc",
   "metadata": {},
   "outputs": [
    {
     "data": {
      "text/plain": [
       "array(['GA', 'CA', 'TX', 'IL', 'PA', 'FL', 'MI', 'RI', 'NY', 'MD', 'WI',\n",
       "       'NV', 'UT', 'WA', 'NH', 'HI', 'MA', 'OK', 'NJ', 'OH', 'AZ', 'CT',\n",
       "       'MN', 'CO', 'TN', 'VA', 'MO', 'DE', 'NM', 'LA', 'AR', 'KY', 'NC',\n",
       "       'SC', 'WV', 'KS', 'WY', 'OR', 'AL', 'VT', 'MS', 'DC', 'MT', 'SD',\n",
       "       'AK', 'IN', 'ME', 'ID', 'NE', 'IA'], dtype=object)"
      ]
     },
     "execution_count": 44,
     "metadata": {},
     "output_type": "execute_result"
    }
   ],
   "source": [
    "df['address_state'].unique()"
   ]
  },
  {
   "cell_type": "code",
   "execution_count": 45,
   "id": "9de1e022-02c8-418b-8700-db1b939e2795",
   "metadata": {},
   "outputs": [
    {
     "data": {
      "text/plain": [
       "Index(['id', 'address_state', 'application_type', 'emp_length', 'emp_title',\n",
       "       'grade', 'home_ownership', 'issue_date', 'last_credit_pull_date',\n",
       "       'last_payment_date', 'loan_status', 'next_payment_date', 'member_id',\n",
       "       'purpose', 'sub_grade', 'term', 'verification_status', 'annual_income',\n",
       "       'dti', 'installment', 'int_rate', 'loan_amount', 'total_acc',\n",
       "       'total_payment'],\n",
       "      dtype='object')"
      ]
     },
     "execution_count": 45,
     "metadata": {},
     "output_type": "execute_result"
    }
   ],
   "source": [
    "df.columns"
   ]
  },
  {
   "cell_type": "code",
   "execution_count": 46,
   "id": "90e62e7d-eedc-4a98-b7bf-a76bb20b245b",
   "metadata": {},
   "outputs": [
    {
     "data": {
      "text/plain": [
       "<Axes: xlabel='id', ylabel='annual_income'>"
      ]
     },
     "execution_count": 46,
     "metadata": {},
     "output_type": "execute_result"
    },
    {
     "data": {
      "image/png": "[encoded data removed]",
      "text/plain": [
       "<Figure size 1000x400 with 1 Axes>"
      ]
     },
     "metadata": {},
     "output_type": "display_data"
    }
   ],
   "source": [
    "plt.figure(figsize=(10,4))\n",
    "sb.scatterplot(data=df.head(10),x='id',y='annual_income')"
   ]
  },
  {
   "cell_type": "code",
   "execution_count": 47,
   "id": "c530302b-2465-4abb-8f24-8fecfce027e5",
   "metadata": {},
   "outputs": [
    {
     "name": "stderr",
     "output_type": "stream",
     "text": [
      "C:\\Users\\admin\\AppData\\Local\\Temp\\ipykernel_17780\\390487513.py:2: FutureWarning: \n",
      "\n",
      "Passing `palette` without assigning `hue` is deprecated and will be removed in v0.14.0. Assign the `x` variable to `hue` and set `legend=False` for the same effect.\n",
      "\n",
      "  sb.barplot(data=df,x='grade',y='dti',palette=colors)\n"
     ]
    },
    {
     "data": {
      "text/plain": [
       "<Axes: xlabel='grade', ylabel='dti'>"
      ]
     },
     "execution_count": 47,
     "metadata": {},
     "output_type": "execute_result"
    },
    {
     "data": {
      "image/png": "[encoded data removed]",
      "text/plain": [
       "<Figure size 640x480 with 1 Axes>"
      ]
     },
     "metadata": {},
     "output_type": "display_data"
    }
   ],
   "source": [
    "colors=('yellow','black','blue','brown','pink','green','red','skyblue','voilet','darkgreen')\n",
    "sb.barplot(data=df,x='grade',y='dti',palette=colors)"
   ]
  },
  {
   "cell_type": "code",
   "execution_count": 48,
   "id": "607e6f4c-3aa4-4fee-a9f8-9d7569917e6f",
   "metadata": {},
   "outputs": [
    {
     "data": {
      "image/png": "[encoded data removed]",
      "text/plain": [
       "<Figure size 1000x400 with 1 Axes>"
      ]
     },
     "metadata": {},
     "output_type": "display_data"
    }
   ],
   "source": [
    "plt.figure(figsize=(10,4))\n",
    "sb.lineplot(data=df.head(10),x='issue_date',y='loan_amount')\n",
    "plt.tight_layout()\n",
    "plt.show()"
   ]
  },
  {
   "cell_type": "code",
   "execution_count": 49,
   "id": "253d2a2f-2428-4127-bd12-2391544f1c3b",
   "metadata": {},
   "outputs": [
    {
     "data": {
      "text/plain": [
       "<Axes: xlabel='home_ownership', ylabel='count'>"
      ]
     },
     "execution_count": 49,
     "metadata": {},
     "output_type": "execute_result"
    },
    {
     "data": {
      "image/png": "[encoded data removed]",
      "text/plain": [
       "<Figure size 640x480 with 1 Axes>"
      ]
     },
     "metadata": {},
     "output_type": "display_data"
    }
   ],
   "source": [
    "sb.countplot(data=df,x='home_ownership')"
   ]
  },
  {
   "cell_type": "code",
   "execution_count": 50,
   "id": "80bab36b-576f-44e1-89e5-8d8d240cfc51",
   "metadata": {},
   "outputs": [
    {
     "data": {
      "text/plain": [
       "<Axes: xlabel='annual_income', ylabel='Count'>"
      ]
     },
     "execution_count": 50,
     "metadata": {},
     "output_type": "execute_result"
    },
    {
     "data": {
      "image/png": "[encoded data removed]",
      "text/plain": [
       "<Figure size 640x480 with 1 Axes>"
      ]
     },
     "metadata": {},
     "output_type": "display_data"
    }
   ],
   "source": [
    "sb.histplot(data=df.head(),x='annual_income',kde='term')"
   ]
  },
  {
   "cell_type": "code",
   "execution_count": 51,
   "id": "b2952b61-5330-49ef-aee0-856bf7001797",
   "metadata": {},
   "outputs": [
    {
     "data": {
      "text/plain": [
       "<Axes: xlabel='loan_amount', ylabel='Count'>"
      ]
     },
     "execution_count": 51,
     "metadata": {},
     "output_type": "execute_result"
    },
    {
     "data": {
      "image/png": "[encoded data removed]",
      "text/plain": [
       "<Figure size 640x480 with 1 Axes>"
      ]
     },
     "metadata": {},
     "output_type": "display_data"
    }
   ],
   "source": [
    "sb.histplot(data=df.head(),x='loan_amount',kde='sub_grade')"
   ]
  },
  {
   "cell_type": "code",
   "execution_count": 52,
   "id": "ce5012fd-60a5-4fc9-a0c7-9fd8cc4f4c48",
   "metadata": {},
   "outputs": [
    {
     "data": {
      "text/plain": [
       "<Axes: xlabel='total_payment', ylabel='Count'>"
      ]
     },
     "execution_count": 52,
     "metadata": {},
     "output_type": "execute_result"
    },
    {
     "data": {
      "image/png": "[encoded data removed]",
      "text/plain": [
       "<Figure size 640x480 with 1 Axes>"
      ]
     },
     "metadata": {},
     "output_type": "display_data"
    }
   ],
   "source": [
    "sb.histplot(data=df.head(10),x='total_payment',kde='grade')"
   ]
  },
  {
   "cell_type": "code",
   "execution_count": 53,
   "id": "af2e2a3e-a382-42d1-ba39-3acd5079b1e2",
   "metadata": {},
   "outputs": [
    {
     "data": {
      "text/plain": [
       "<Axes: xlabel='application_type', ylabel='issue_date'>"
      ]
     },
     "execution_count": 53,
     "metadata": {},
     "output_type": "execute_result"
    },
    {
     "data": {
      "image/png": "[encoded data removed]",
      "text/plain": [
       "<Figure size 640x480 with 1 Axes>"
      ]
     },
     "metadata": {},
     "output_type": "display_data"
    }
   ],
   "source": [
    "sb.boxplot(data=df,x='application_type',y='issue_date')"
   ]
  },
  {
   "cell_type": "code",
   "execution_count": 54,
   "id": "d484ca34-bc93-41dd-b2b6-8c59bbc2d6e9",
   "metadata": {},
   "outputs": [
    {
     "data": {
      "image/png": "[encoded data removed]",
      "text/plain": [
       "<Figure size 1000x600 with 2 Axes>"
      ]
     },
     "metadata": {},
     "output_type": "display_data"
    }
   ],
   "source": [
    "plt.figure(figsize=(10,6))\n",
    "corr=df.corr(numeric_only=True)\n",
    "sb.heatmap(corr,annot=True,cmap=\"coolwarm\")\n",
    "plt.tight_layout()\n",
    "plt.xticks(rotation=45)\n",
    "plt.yticks(rotation=60)\n",
    "plt.show()"
   ]
  },
  {
   "cell_type": "code",
   "execution_count": 55,
   "id": "342629d4-bdc9-496b-86d2-fafbe311836c",
   "metadata": {},
   "outputs": [
    {
     "data": {
      "text/plain": [
       "Index(['id', 'address_state', 'application_type', 'emp_length', 'emp_title',\n",
       "       'grade', 'home_ownership', 'issue_date', 'last_credit_pull_date',\n",
       "       'last_payment_date', 'loan_status', 'next_payment_date', 'member_id',\n",
       "       'purpose', 'sub_grade', 'term', 'verification_status', 'annual_income',\n",
       "       'dti', 'installment', 'int_rate', 'loan_amount', 'total_acc',\n",
       "       'total_payment'],\n",
       "      dtype='object')"
      ]
     },
     "execution_count": 55,
     "metadata": {},
     "output_type": "execute_result"
    }
   ],
   "source": [
    "df.columns"
   ]
  },
  {
   "cell_type": "code",
   "execution_count": 57,
   "id": "e1492666-eb4c-4918-b5f9-c97d56fb556b",
   "metadata": {},
   "outputs": [
    {
     "data": {
      "text/plain": [
       "array(['C', 'E', 'B', 'A', 'D', 'F', 'G'], dtype=object)"
      ]
     },
     "execution_count": 57,
     "metadata": {},
     "output_type": "execute_result"
    }
   ],
   "source": [
    "df['grade'].unique()"
   ]
  },
  {
   "cell_type": "code",
   "execution_count": 65,
   "id": "dece5c45-eaa3-4f06-893d-dabaf35458ac",
   "metadata": {},
   "outputs": [
    {
     "data": {
      "image/png": "[encoded data removed]",
      "text/plain": [
       "<Figure size 640x480 with 1 Axes>"
      ]
     },
     "metadata": {},
     "output_type": "display_data"
    }
   ],
   "source": [
    "counts=df['grade'].value_counts()\n",
    "counts=counts.sort_index()\n",
    "explodes=[0.1,0.2,0.1,0.2,0.6,0.2,0.8]\n",
    "plt.pie(counts.values,labels=counts.index,autopct=\"%1.2f%%\",startangle=90,explode=explodes)\n",
    "\n",
    "plt.tight_layout()\n",
    "plt.show()"
   ]
  },
  {
   "cell_type": "code",
   "execution_count": 66,
   "id": "4f8fa64f-f948-4db8-8239-adb9c7b8c1dd",
   "metadata": {},
   "outputs": [
    {
     "data": {
      "text/plain": [
       "Index(['id', 'address_state', 'application_type', 'emp_length', 'emp_title',\n",
       "       'grade', 'home_ownership', 'issue_date', 'last_credit_pull_date',\n",
       "       'last_payment_date', 'loan_status', 'next_payment_date', 'member_id',\n",
       "       'purpose', 'sub_grade', 'term', 'verification_status', 'annual_income',\n",
       "       'dti', 'installment', 'int_rate', 'loan_amount', 'total_acc',\n",
       "       'total_payment'],\n",
       "      dtype='object')"
      ]
     },
     "execution_count": 66,
     "metadata": {},
     "output_type": "execute_result"
    }
   ],
   "source": [
    "df.columns"
   ]
  },
  {
   "cell_type": "code",
   "execution_count": 68,
   "id": "7b214be7-b717-4303-9417-9bdefa7d174d",
   "metadata": {},
   "outputs": [
    {
     "data": {
      "image/png": "[encoded data removed]",
      "text/plain": [
       "<Figure size 640x480 with 1 Axes>"
      ]
     },
     "metadata": {},
     "output_type": "display_data"
    }
   ],
   "source": [
    "counts=df['application_type'].value_counts()\n",
    "counts=counts.sort_index()\n",
    "plt.pie(counts.values,labels=counts.index,autopct=\"%1.2f%%\",startangle=90)\n",
    "\n",
    "plt.tight_layout()\n",
    "plt.show()"
   ]
  },
  {
   "cell_type": "code",
   "execution_count": 82,
   "id": "40c66338-d03d-4339-a238-02eb5a19eb59",
   "metadata": {},
   "outputs": [
    {
     "data": {
      "image/png": "[encoded data removed]",
      "text/plain": [
       "<Figure size 640x480 with 1 Axes>"
      ]
     },
     "metadata": {},
     "output_type": "display_data"
    }
   ],
   "source": [
    "counts=df['purpose'].value_counts()\n",
    "counts=counts.sort_index()\n",
    "explodes=[0.0,0.0,0.0,0.0,0.5,0.4,0.3,0.0,0.4,0.5,0.5,0.8,0.8,0.6]\n",
    "plt.pie(counts.values,labels=counts.index,autopct=\"%1.2f%%\",startangle=90,explode=explodes)\n",
    "plt.tight_layout()\n",
    "plt.show()"
   ]
  },
  {
   "cell_type": "code",
   "execution_count": 83,
   "id": "a8c3f03b-ef25-4a6c-88d0-d7c86d731866",
   "metadata": {},
   "outputs": [
    {
     "data": {
      "text/plain": [
       "Index(['id', 'address_state', 'application_type', 'emp_length', 'emp_title',\n",
       "       'grade', 'home_ownership', 'issue_date', 'last_credit_pull_date',\n",
       "       'last_payment_date', 'loan_status', 'next_payment_date', 'member_id',\n",
       "       'purpose', 'sub_grade', 'term', 'verification_status', 'annual_income',\n",
       "       'dti', 'installment', 'int_rate', 'loan_amount', 'total_acc',\n",
       "       'total_payment'],\n",
       "      dtype='object')"
      ]
     },
     "execution_count": 83,
     "metadata": {},
     "output_type": "execute_result"
    }
   ],
   "source": [
    "df.columns"
   ]
  },
  {
   "cell_type": "code",
   "execution_count": 84,
   "id": "c01f0cc9-da91-4e49-8aff-1a61c2e9aa7c",
   "metadata": {},
   "outputs": [],
   "source": [
    "df['diff_Amt']=df['total_payment']-df['loan_amount']"
   ]
  },
  {
   "cell_type": "code",
   "execution_count": 85,
   "id": "cd11df86-8ffd-4f2c-ae1b-4f8ee2df35a9",
   "metadata": {},
   "outputs": [
    {
     "data": {
      "text/html": [
       "<div>\n",
       "<style scoped>\n",
       "    .dataframe tbody tr th:only-of-type {\n",
       "        vertical-align: middle;\n",
       "    }\n",
       "\n",
       "    .dataframe tbody tr th {\n",
       "        vertical-align: top;\n",
       "    }\n",
       "\n",
       "    .dataframe thead th {\n",
       "        text-align: right;\n",
       "    }\n",
       "</style>\n",
       "<table border=\"1\" class=\"dataframe\">\n",
       "  <thead>\n",
       "    <tr style=\"text-align: right;\">\n",
       "      <th></th>\n",
       "      <th>id</th>\n",
       "      <th>address_state</th>\n",
       "      <th>application_type</th>\n",
       "      <th>emp_length</th>\n",
       "      <th>emp_title</th>\n",
       "      <th>grade</th>\n",
       "      <th>home_ownership</th>\n",
       "      <th>issue_date</th>\n",
       "      <th>last_credit_pull_date</th>\n",
       "      <th>last_payment_date</th>\n",
       "      <th>...</th>\n",
       "      <th>term</th>\n",
       "      <th>verification_status</th>\n",
       "      <th>annual_income</th>\n",
       "      <th>dti</th>\n",
       "      <th>installment</th>\n",
       "      <th>int_rate</th>\n",
       "      <th>loan_amount</th>\n",
       "      <th>total_acc</th>\n",
       "      <th>total_payment</th>\n",
       "      <th>diff_Amt</th>\n",
       "    </tr>\n",
       "  </thead>\n",
       "  <tbody>\n",
       "    <tr>\n",
       "      <th>0</th>\n",
       "      <td>1077430</td>\n",
       "      <td>GA</td>\n",
       "      <td>INDIVIDUAL</td>\n",
       "      <td>1 year</td>\n",
       "      <td>Ryder</td>\n",
       "      <td>C</td>\n",
       "      <td>RENT</td>\n",
       "      <td>2021-02-11</td>\n",
       "      <td>2021-09-13</td>\n",
       "      <td>2021-04-13</td>\n",
       "      <td>...</td>\n",
       "      <td>60 months</td>\n",
       "      <td>Source Verified</td>\n",
       "      <td>30000.0</td>\n",
       "      <td>0.0100</td>\n",
       "      <td>59.83</td>\n",
       "      <td>0.1527</td>\n",
       "      <td>2500</td>\n",
       "      <td>4</td>\n",
       "      <td>1009</td>\n",
       "      <td>-1491</td>\n",
       "    </tr>\n",
       "    <tr>\n",
       "      <th>1</th>\n",
       "      <td>1072053</td>\n",
       "      <td>CA</td>\n",
       "      <td>INDIVIDUAL</td>\n",
       "      <td>9 years</td>\n",
       "      <td>MKC Accounting</td>\n",
       "      <td>E</td>\n",
       "      <td>RENT</td>\n",
       "      <td>2021-01-01</td>\n",
       "      <td>2021-12-14</td>\n",
       "      <td>2021-01-15</td>\n",
       "      <td>...</td>\n",
       "      <td>36 months</td>\n",
       "      <td>Source Verified</td>\n",
       "      <td>48000.0</td>\n",
       "      <td>0.0535</td>\n",
       "      <td>109.43</td>\n",
       "      <td>0.1864</td>\n",
       "      <td>3000</td>\n",
       "      <td>4</td>\n",
       "      <td>3939</td>\n",
       "      <td>939</td>\n",
       "    </tr>\n",
       "    <tr>\n",
       "      <th>2</th>\n",
       "      <td>1069243</td>\n",
       "      <td>CA</td>\n",
       "      <td>INDIVIDUAL</td>\n",
       "      <td>4 years</td>\n",
       "      <td>Chemat Technology Inc</td>\n",
       "      <td>C</td>\n",
       "      <td>RENT</td>\n",
       "      <td>2021-01-05</td>\n",
       "      <td>2021-12-12</td>\n",
       "      <td>2021-01-09</td>\n",
       "      <td>...</td>\n",
       "      <td>36 months</td>\n",
       "      <td>Not Verified</td>\n",
       "      <td>50000.0</td>\n",
       "      <td>0.2088</td>\n",
       "      <td>421.65</td>\n",
       "      <td>0.1596</td>\n",
       "      <td>12000</td>\n",
       "      <td>11</td>\n",
       "      <td>3522</td>\n",
       "      <td>-8478</td>\n",
       "    </tr>\n",
       "    <tr>\n",
       "      <th>3</th>\n",
       "      <td>1041756</td>\n",
       "      <td>TX</td>\n",
       "      <td>INDIVIDUAL</td>\n",
       "      <td>1 year</td>\n",
       "      <td>barnes distribution</td>\n",
       "      <td>B</td>\n",
       "      <td>MORTGAGE</td>\n",
       "      <td>2021-02-25</td>\n",
       "      <td>2021-12-12</td>\n",
       "      <td>2021-03-12</td>\n",
       "      <td>...</td>\n",
       "      <td>60 months</td>\n",
       "      <td>Source Verified</td>\n",
       "      <td>42000.0</td>\n",
       "      <td>0.0540</td>\n",
       "      <td>97.06</td>\n",
       "      <td>0.1065</td>\n",
       "      <td>4500</td>\n",
       "      <td>9</td>\n",
       "      <td>4911</td>\n",
       "      <td>411</td>\n",
       "    </tr>\n",
       "    <tr>\n",
       "      <th>4</th>\n",
       "      <td>1068350</td>\n",
       "      <td>IL</td>\n",
       "      <td>INDIVIDUAL</td>\n",
       "      <td>10 year</td>\n",
       "      <td>J&amp;J Steel Inc</td>\n",
       "      <td>A</td>\n",
       "      <td>MORTGAGE</td>\n",
       "      <td>2021-01-01</td>\n",
       "      <td>2021-12-14</td>\n",
       "      <td>2021-01-15</td>\n",
       "      <td>...</td>\n",
       "      <td>36 months</td>\n",
       "      <td>Verified</td>\n",
       "      <td>83000.0</td>\n",
       "      <td>0.0231</td>\n",
       "      <td>106.53</td>\n",
       "      <td>0.0603</td>\n",
       "      <td>3500</td>\n",
       "      <td>28</td>\n",
       "      <td>3835</td>\n",
       "      <td>335</td>\n",
       "    </tr>\n",
       "  </tbody>\n",
       "</table>\n",
       "<p>5 rows × 25 columns</p>\n",
       "</div>"
      ],
      "text/plain": [
       "        id address_state application_type emp_length              emp_title  \\\n",
       "0  1077430            GA       INDIVIDUAL     1 year                  Ryder   \n",
       "1  1072053            CA       INDIVIDUAL    9 years         MKC Accounting   \n",
       "2  1069243            CA       INDIVIDUAL    4 years  Chemat Technology Inc   \n",
       "3  1041756            TX       INDIVIDUAL     1 year    barnes distribution   \n",
       "4  1068350            IL       INDIVIDUAL    10 year          J&J Steel Inc   \n",
       "\n",
       "  grade home_ownership issue_date last_credit_pull_date last_payment_date  \\\n",
       "0     C           RENT 2021-02-11            2021-09-13        2021-04-13   \n",
       "1     E           RENT 2021-01-01            2021-12-14        2021-01-15   \n",
       "2     C           RENT 2021-01-05            2021-12-12        2021-01-09   \n",
       "3     B       MORTGAGE 2021-02-25            2021-12-12        2021-03-12   \n",
       "4     A       MORTGAGE 2021-01-01            2021-12-14        2021-01-15   \n",
       "\n",
       "   ...        term verification_status  annual_income     dti installment  \\\n",
       "0  ...   60 months     Source Verified        30000.0  0.0100       59.83   \n",
       "1  ...   36 months     Source Verified        48000.0  0.0535      109.43   \n",
       "2  ...   36 months        Not Verified        50000.0  0.2088      421.65   \n",
       "3  ...   60 months     Source Verified        42000.0  0.0540       97.06   \n",
       "4  ...   36 months            Verified        83000.0  0.0231      106.53   \n",
       "\n",
       "  int_rate loan_amount  total_acc  total_payment  diff_Amt  \n",
       "0   0.1527        2500          4           1009     -1491  \n",
       "1   0.1864        3000          4           3939       939  \n",
       "2   0.1596       12000         11           3522     -8478  \n",
       "3   0.1065        4500          9           4911       411  \n",
       "4   0.0603        3500         28           3835       335  \n",
       "\n",
       "[5 rows x 25 columns]"
      ]
     },
     "execution_count": 85,
     "metadata": {},
     "output_type": "execute_result"
    }
   ],
   "source": [
    "df.head()"
   ]
  },
  {
   "cell_type": "code",
   "execution_count": 97,
   "id": "b6422cc6-b01c-4aa8-8308-776a29043d36",
   "metadata": {},
   "outputs": [
    {
     "name": "stdout",
     "output_type": "stream",
     "text": [
      "value counts for 'term':\n"
     ]
    },
    {
     "data": {
      "text/plain": [
       "<Axes: ylabel='count'>"
      ]
     },
     "metadata": {},
     "output_type": "display_data"
    },
    {
     "data": {
      "text/plain": [
       "Text(137.64444444444445, 0.5, ' ')"
      ]
     },
     "execution_count": 97,
     "metadata": {},
     "output_type": "execute_result"
    },
    {
     "data": {
      "image/png": "[encoded data removed]",
      "text/plain": [
       "<Figure size 640x480 with 1 Axes>"
      ]
     },
     "metadata": {},
     "output_type": "display_data"
    }
   ],
   "source": [
    "cat_cols=df[['term']]\n",
    "for col in cat_cols:\n",
    "    print(f\"value counts for '{col}':\")\n",
    "    display(df[col].value_counts().plot(kind='pie',autopct=\"%1.2f%%\"))\n",
    "plt.tight_layout()\n",
    "plt.xlabel('')\n",
    "plt.ylabel(\" \")"
   ]
  },
  {
   "cell_type": "code",
   "execution_count": 98,
   "id": "14222a23-f3fe-4b02-a23e-340186bd3c16",
   "metadata": {},
   "outputs": [
    {
     "data": {
      "image/png": "[encoded data removed]",
      "text/plain": [
       "<Figure size 800x500 with 1 Axes>"
      ]
     },
     "metadata": {},
     "output_type": "display_data"
    }
   ],
   "source": [
    "pivot = pd.pivot_table(\n",
    "    df,\n",
    "    values='loan_amount',\n",
    "    index='grade',\n",
    "    columns='purpose',\n",
    "    aggfunc='sum',\n",
    "    fill_value=0\n",
    ")\n",
    "\n",
    "pivot.plot(kind='bar', figsize=(8,5))\n",
    "plt.title('Loan Amount by Grade & Purpose')\n",
    "plt.xlabel('Grade')\n",
    "plt.ylabel('Total Loan Amount')\n",
    "plt.tight_layout()\n",
    "plt.show()"
   ]
  },
  {
   "cell_type": "code",
   "execution_count": 102,
   "id": "73d45904-0d25-4f5d-aef8-0e003831207c",
   "metadata": {},
   "outputs": [
    {
     "data": {
      "image/png": "[encoded data removed]",
      "text/plain": [
       "<Figure size 1200x700 with 1 Axes>"
      ]
     },
     "metadata": {},
     "output_type": "display_data"
    }
   ],
   "source": [
    "pivot = pd.pivot_table(\n",
    "    df,\n",
    "    values='total_payment',\n",
    "    index='grade',\n",
    "    columns='purpose',\n",
    "    aggfunc='mean',\n",
    "    fill_value=0\n",
    ")\n",
    "\n",
    "pivot.plot(kind='bar', figsize=(12,7))\n",
    "plt.title('Payment by Grade & Purpose')\n",
    "plt.xlabel('Grade')\n",
    "plt.ylabel('Payment')\n",
    "plt.tight_layout()\n",
    "plt.show()"
   ]
  },
  {
   "cell_type": "code",
   "execution_count": null,
   "id": "34d46642-e8f9-491d-9bb4-c888ebed509a",
   "metadata": {},
   "outputs": [],
   "source": []
  }
 ],
 "metadata": {
  "kernelspec": {
   "display_name": "Python (3.13)",
   "language": "python",
   "name": "py313"
  },
  "language_info": {
   "codemirror_mode": {
    "name": "ipython",
    "version": 3
   },
   "file_extension": ".py",
   "mimetype": "text/x-python",
   "name": "python",
   "nbconvert_exporter": "python",
   "pygments_lexer": "ipython3",
   "version": "3.13.1"
  }
 },
 "nbformat": 4,
 "nbformat_minor": 5
}
